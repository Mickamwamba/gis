{
 "cells": [
  {
   "cell_type": "markdown",
   "id": "46bfae79-31c9-453f-bc7c-4a19b1e0c75f",
   "metadata": {},
   "source": [
    "## Intro to Geospatial Databases\n",
    "- Databases provide one of the most popular ways to store large amounts of data, and one of the most popular open source databases is \n",
    "PostgreSQL. PostGIS extends PostgreSQL, adding geographic objects and the ability to query records spatially.\n",
    "- Geospatial databases improve on basic relational database queries by allowing you to query your data by location or by location to\n",
    "other features in the database.\n",
    "- You may also perform geospatial operations such as:\n",
    "  - measurements of features.\n",
    "  - distances between features.\n",
    "  - converting between projections etc.\n",
    "  - create new geometries from existing features - buffer, union or clip operation"
   ]
  },
  {
   "cell_type": "markdown",
   "id": "7e614274-0ab1-4e36-9f21-2219687cfeb8",
   "metadata": {},
   "source": [
    "## Installing PostGreSQL and POSTGIS"
   ]
  },
  {
   "cell_type": "markdown",
   "id": "acdf690c-4244-4e4b-971a-25efda1777d1",
   "metadata": {},
   "source": [
    "- Download from https://postgresapp.com/\n",
    "- NOTE: Working with PostgreSQL in Python requires that use another library called psyscopg2"
   ]
  },
  {
   "cell_type": "code",
   "execution_count": 13,
   "id": "0378de5c-357c-4dd9-a1a7-fe38fe5cea57",
   "metadata": {},
   "outputs": [
    {
     "name": "stdout",
     "output_type": "stream",
     "text": [
      "Collecting psycopg2\n",
      "  Downloading psycopg2-2.9.9.tar.gz (384 kB)\n",
      "\u001b[2K     \u001b[90m━━━━━━━━━━━━━━━━━━━━━━━━━━━━━━━━━━━━━\u001b[0m \u001b[32m384.9/384.9 kB\u001b[0m \u001b[31m272.9 kB/s\u001b[0m eta \u001b[36m0:00:00\u001b[0m00:01\u001b[0m00:01\u001b[0m\n",
      "\u001b[?25h  Preparing metadata (setup.py) ... \u001b[?25ldone\n",
      "\u001b[?25hBuilding wheels for collected packages: psycopg2\n",
      "  Building wheel for psycopg2 (setup.py) ... \u001b[?25ldone\n",
      "\u001b[?25h  Created wheel for psycopg2: filename=psycopg2-2.9.9-cp312-cp312-macosx_11_0_arm64.whl size=133113 sha256=3ce2d4cd5be655a5768f27d5d88f6513c5083a97ffb5597850a9f717e2c5d858\n",
      "  Stored in directory: /Users/michaelkimollo/Library/Caches/pip/wheels/ff/ac/80/7ccec163e3d05ae2112311b895132409b9abfd7e0c1c6b5183\n",
      "Successfully built psycopg2\n",
      "Installing collected packages: psycopg2\n",
      "Successfully installed psycopg2-2.9.9\n",
      "Note: you may need to restart the kernel to use updated packages.\n"
     ]
    }
   ],
   "source": [
    "pip install psycopg2"
   ]
  },
  {
   "cell_type": "markdown",
   "id": "c2483393-4433-45df-b379-07ba48154925",
   "metadata": {},
   "source": [
    "## Connecting to the database and creating table"
   ]
  },
  {
   "cell_type": "code",
   "execution_count": 3,
   "id": "c2feb629-b5c3-4c58-ab23-45a24041a2bb",
   "metadata": {},
   "outputs": [],
   "source": [
    "import psycopg2\n",
    "connection = psycopg2.connect(database=\"pythonspatial\", user=\"postgres\", password=\"\")\n",
    "cursor = connection.cursor()\n",
    "query = \"CREATE TABLE IF NOT EXISTS art_pieces (id SERIAL PRIMARY KEY, code VARCHAR(255), location GEOMETRY)\"\n",
    "cursor.execute(query)\n",
    "connection.commit()"
   ]
  },
  {
   "cell_type": "markdown",
   "id": "08b4d93a-21d3-4cae-9a8a-9939289c33aa",
   "metadata": {},
   "source": [
    "## Adding data to the table"
   ]
  },
  {
   "cell_type": "code",
   "execution_count": null,
   "id": "4c056d81-0e83-49a3-a325-784a88c0da2f",
   "metadata": {},
   "outputs": [],
   "source": [
    "# import requests\n",
    "# # url='https://coagisweb.cabq.gov/arcgis/rest/services/public/PublicArt/MapServer/0/query'\n",
    "# url = 'https://coagisweb.cabq.gov/arcgis/rest/services/public/PublicArt/MapServer/0/query'\n",
    "# params={\"where\":\"1=1\",\"outFields\":\"*\",\"outSR\":\"4326\",\"f\":\"json\"}\n",
    "# r=requests.get(url,params=params)\n",
    "# # data=r.json()\n",
    "# # data[\"features\"][0]"
   ]
  },
  {
   "cell_type": "code",
   "execution_count": 107,
   "id": "1cb68db8-53e5-4d91-a373-c2948d3ddd81",
   "metadata": {},
   "outputs": [
    {
     "data": {
      "text/plain": [
       "{'attributes': {'ART_CODE': '101'},\n",
       " 'geometry': {'x': -106.59183830022498, 'y': 35.155500000061544}}"
      ]
     },
     "execution_count": 107,
     "metadata": {},
     "output_type": "execute_result"
    }
   ],
   "source": [
    "with open('data/query.json', 'r') as file:\n",
    "    data = json.load(file)\n",
    "\n",
    "data[\"features\"][0]\n"
   ]
  },
  {
   "cell_type": "code",
   "execution_count": null,
   "id": "2724e520-4e0f-4600-bfb2-2f791ca527a7",
   "metadata": {},
   "outputs": [],
   "source": []
  },
  {
   "cell_type": "code",
   "execution_count": 121,
   "id": "71c4198e-4b4d-4751-b6aa-7621481b0534",
   "metadata": {},
   "outputs": [],
   "source": [
    "for a in data[\"features\"]: \n",
    "    code = a['attributes']['ART_CODE']\n",
    "    wkt = \"POINT(\"+str(a[\"geometry\"][\"x\"])+\" \"+str(a[\"geometry\"][\"y\"])+\")\"\n",
    "    if(a['geometry']['x']=='NaN'): \n",
    "        pass\n",
    "    else: \n",
    "        cursor.execute(\"INSERT INTO art_pieces (code, location) VALUES ('{}', ST_GeomFromText('{}'))\".format(code,wkt))\n",
    "        connection.commit()"
   ]
  },
  {
   "cell_type": "markdown",
   "id": "58bb86b9-36be-4169-816e-1b82d81b7bfc",
   "metadata": {},
   "source": [
    "### Using Shapely\n",
    "- Shapely makes the code cleaner. Instead of creating a string representation of the wkt, we create a point using \n",
    "shapely and then convert the point to the wkt."
   ]
  },
  {
   "cell_type": "code",
   "execution_count": 132,
   "id": "4b3a5a82-c0ed-4bb3-88ec-aad7a7f7adf3",
   "metadata": {},
   "outputs": [],
   "source": [
    "from shapely.geometry import Point,MultiPoint\n",
    "\n",
    "thepoints = []\n",
    "for a in data[\"features\"]: \n",
    "    code = a[\"attributes\"][\"ART_CODE\"]\n",
    "    p = Point(float(a[\"geometry\"][\"x\"]),(float(a[\"geometry\"][\"y\"])))\n",
    "    thepoints.append(p)\n",
    "\n",
    "    if(a[\"geometry\"][\"x\"]==\"NaN\"):\n",
    "        pass; \n",
    "    else: \n",
    "        cursor.execute(\"INSERT INTO art_pieces (code, location) VALUES ('{}', ST_GeomFromText('{}'))\".format(code,p.wkt))\n",
    "        connection.commit()"
   ]
  },
  {
   "cell_type": "code",
   "execution_count": null,
   "id": "2e09de32-337f-46d0-b0b2-f6ae9d15c85a",
   "metadata": {},
   "outputs": [],
   "source": []
  },
  {
   "cell_type": "markdown",
   "id": "e3cb8150-5baf-4b3f-86cf-6beea06d2af7",
   "metadata": {},
   "source": [
    "## Querying the data"
   ]
  },
  {
   "cell_type": "code",
   "execution_count": 144,
   "id": "da8e42d6-3271-4be8-8966-46c3af7a6c82",
   "metadata": {},
   "outputs": [
    {
     "data": {
      "text/plain": [
       "(1, '101', '0101000020E610000023FFBFADE0A55AC06B658B6CE7934140')"
      ]
     },
     "execution_count": 144,
     "metadata": {},
     "output_type": "execute_result"
    }
   ],
   "source": [
    "# querying data normally, without considering the geospatial dimension\n",
    "cursor.execute(\"SELECT * FROM art_pieces\")\n",
    "data = cursor.fetchall()\n",
    "data[0]"
   ]
  },
  {
   "cell_type": "markdown",
   "id": "db9d0e1c-f2a1-4a5b-936f-141e3529111a",
   "metadata": {},
   "source": [
    "Note how the geomery of this displayed. The geometry string is displayed as a WKB in hex - Well Known Binary. We can use \n",
    "shapely to convert the WKB to shapely point. "
   ]
  },
  {
   "cell_type": "code",
   "execution_count": 159,
   "id": "c4b71245-f218-48b7-b175-53aa7cda2a97",
   "metadata": {},
   "outputs": [
    {
     "data": {
      "text/plain": [
       "'POINT (-106.59183830022498 35.155500000061544)'"
      ]
     },
     "execution_count": 159,
     "metadata": {},
     "output_type": "execute_result"
    }
   ],
   "source": [
    "from shapely.wkb import loads\n",
    "aPoint = loads(data[0][2],hex=True)\n",
    "aPoint.wkt  #this displays the shapely point in a WKT format"
   ]
  },
  {
   "cell_type": "code",
   "execution_count": 161,
   "id": "527d5565-43da-426b-b951-390dd3d9b195",
   "metadata": {},
   "outputs": [
    {
     "data": {
      "text/plain": [
       "shapely.geometry.point.Point"
      ]
     },
     "execution_count": 161,
     "metadata": {},
     "output_type": "execute_result"
    }
   ],
   "source": [
    "type(aPoint)"
   ]
  },
  {
   "cell_type": "markdown",
   "id": "51de5c0b-fd8d-4bdc-a6bd-72ac65f30cdc",
   "metadata": {},
   "source": [
    "Note: If you want the PostgreSQL to return the data in WKB without hex, you can do by using _AsBinary()"
   ]
  },
  {
   "cell_type": "code",
   "execution_count": 168,
   "id": "2384f38b-3916-4ac5-ba14-886e2043ce0b",
   "metadata": {},
   "outputs": [
    {
     "data": {
      "text/plain": [
       "(1, '101', <memory at 0x16936d0c0>)"
      ]
     },
     "execution_count": 168,
     "metadata": {},
     "output_type": "execute_result"
    }
   ],
   "source": [
    "cursor.execute(\"SELECT id,code, ST_AsBinary(location) FROM art_pieces\")\n",
    "data = cursor.fetchall()\n",
    "data[0]"
   ]
  },
  {
   "cell_type": "code",
   "execution_count": 174,
   "id": "bab155d7-a85e-4181-84e7-710a783ecb2e",
   "metadata": {},
   "outputs": [
    {
     "data": {
      "text/plain": [
       "'POINT (-106.59183830022498 35.155500000061544)'"
      ]
     },
     "execution_count": 174,
     "metadata": {},
     "output_type": "execute_result"
    }
   ],
   "source": [
    "from shapely.wkb import loads\n",
    "pNoHex = loads(bytes(data[0][2]))\n",
    "pNoHex.wkt"
   ]
  },
  {
   "cell_type": "markdown",
   "id": "96bf216d-6cca-45b1-886e-f85514060f00",
   "metadata": {},
   "source": [
    "You may query directly to retrieve geometry back as follows "
   ]
  },
  {
   "cell_type": "code",
   "execution_count": 181,
   "id": "7939a4af-716b-451e-b29d-e662a8356b09",
   "metadata": {},
   "outputs": [
    {
     "data": {
      "text/plain": [
       "(1, '101', 'POINT(-106.59183830022498 35.155500000061544)')"
      ]
     },
     "execution_count": 181,
     "metadata": {},
     "output_type": "execute_result"
    }
   ],
   "source": [
    "cursor.execute(\"SELECT id,code, ST_AsText(location) FROM art_pieces\")\n",
    "data = cursor.fetchone()\n",
    "data"
   ]
  },
  {
   "cell_type": "markdown",
   "id": "4a9eb923-a96a-41f5-85be-b23ae397b807",
   "metadata": {},
   "source": [
    "You can load WKT into a shapely Point using loads()."
   ]
  },
  {
   "cell_type": "code",
   "execution_count": 194,
   "id": "3c4255eb-6bf5-4a8f-9373-0bdacfcb0af9",
   "metadata": {},
   "outputs": [
    {
     "data": {
      "text/plain": [
       "'POINT(-106.59183830022498 35.155500000061544)'"
      ]
     },
     "execution_count": 194,
     "metadata": {},
     "output_type": "execute_result"
    }
   ],
   "source": [
    "data[2]"
   ]
  },
  {
   "cell_type": "code",
   "execution_count": 202,
   "id": "eec5029b-a20b-4c65-b9b7-2bcd6860d0b2",
   "metadata": {},
   "outputs": [
    {
     "data": {
      "text/plain": [
       "[(-106.59183830022498, 35.155500000061544)]"
      ]
     },
     "execution_count": 202,
     "metadata": {},
     "output_type": "execute_result"
    }
   ],
   "source": [
    "from shapely.wkt import loads\n",
    "pb = loads(data[2])\n",
    "pb.coords[:]"
   ]
  },
  {
   "cell_type": "code",
   "execution_count": null,
   "id": "6f779d9c-871f-45ad-af8d-dda68f752c36",
   "metadata": {},
   "outputs": [],
   "source": []
  },
  {
   "cell_type": "markdown",
   "id": "5c5315f4-cc00-41f3-9b86-7342913cc582",
   "metadata": {},
   "source": [
    "## Changing the CRS"
   ]
  },
  {
   "cell_type": "markdown",
   "id": "4cdd4e82-c900-494a-af6e-cd6881acba77",
   "metadata": {},
   "source": [
    "Currently the data in the database is using the World Geodetic System 84(WGS 84),latitude and longitude. What if we want data out \n",
    "in European Petroleum Survey Group (EPSG) 3857?\n",
    "- You can change the spatial reference in your query using ST_Transform()"
   ]
  },
  {
   "cell_type": "code",
   "execution_count": 233,
   "id": "edc648b7-722a-472a-8bcc-4c4500c5341e",
   "metadata": {},
   "outputs": [],
   "source": [
    "cursor.execute(\"UPDATE art_pieces SET location = ST_SetSRID(location, 4326)\")"
   ]
  },
  {
   "cell_type": "code",
   "execution_count": 235,
   "id": "ca53b2e1-966d-47bb-b203-01cb7b2b17c6",
   "metadata": {},
   "outputs": [
    {
     "data": {
      "text/plain": [
       "[(0,)]"
      ]
     },
     "execution_count": 235,
     "metadata": {},
     "output_type": "execute_result"
    }
   ],
   "source": [
    "cursor.execute(\"SELECT Find_SRID('public','art_pieces', 'location')\")\n",
    "cursor.fetchall()"
   ]
  },
  {
   "cell_type": "code",
   "execution_count": 240,
   "id": "297d6793-a969-456f-8145-2437bc7f5c83",
   "metadata": {},
   "outputs": [
    {
     "data": {
      "text/plain": [
       "('101', 'POINT(-11865749.162299998 4185033.103399999)')"
      ]
     },
     "execution_count": 240,
     "metadata": {},
     "output_type": "execute_result"
    }
   ],
   "source": [
    "cursor.execute(\"SELECT code, ST_AsText(ST_Transform(location,3857)) from art_pieces\")\n",
    "cursor.fetchone()"
   ]
  },
  {
   "cell_type": "code",
   "execution_count": null,
   "id": "397d6e66-2b7c-45f2-b302-3906a056c5d7",
   "metadata": {},
   "outputs": [],
   "source": []
  },
  {
   "cell_type": "markdown",
   "id": "dca1d6c6-0730-4522-93e5-7bc28aec4292",
   "metadata": {},
   "source": [
    "## Buffer"
   ]
  },
  {
   "cell_type": "markdown",
   "id": "2e97d291-6a9e-465c-ac65-5b6ea1af505a",
   "metadata": {},
   "source": [
    "Note: A spatial database allows you to store spatial data, but you can also perform operations on the data and get different geometries\n",
    "back. For example with ST_Buffer() you can return a polygon around the point with a specified radius. "
   ]
  },
  {
   "cell_type": "code",
   "execution_count": 273,
   "id": "02e1282d-703f-4124-bd92-a7a47a6edf44",
   "metadata": {},
   "outputs": [
    {
     "data": {
      "text/plain": [
       "'POLYGON((-81.59183830022498 35.155500000061544,-84.94120320561402 22.655500000061544,-94.09183830022498 13.504864905450578,-106.59183830022498 10.155500000061544,-119.09183830022498 13.504864905450574,-128.24247339483594 22.655500000061537,-131.591838300225 35.155500000061544,-128.24247339483594 47.65550000006154,-119.09183830022499 56.8061350946725,-106.59183830022498 60.155500000061544,-94.09183830022499 56.80613509467252,-84.94120320561402 47.65550000006155,-81.59183830022498 35.155500000061544))'"
      ]
     },
     "execution_count": 273,
     "metadata": {},
     "output_type": "execute_result"
    }
   ],
   "source": [
    "cursor.execute(\"SELECT ST_AsText(ST_Buffer(a.location,25.00,'quad_segs=3')) from art_pieces as a WHERE a.code='101'\")\n",
    "data = cursor.fetchall()\n",
    "data[0][0]"
   ]
  },
  {
   "cell_type": "markdown",
   "id": "7f933235-6aae-4a52-bd73-a210dd25dea5",
   "metadata": {},
   "source": [
    "We can load this polygon into shapely to draw the polygon"
   ]
  },
  {
   "cell_type": "code",
   "execution_count": 276,
   "id": "58ab7994-afd8-4864-b0bb-9b24b8dbe2dd",
   "metadata": {},
   "outputs": [
    {
     "data": {
      "image/svg+xml": [
       "<svg xmlns=\"http://www.w3.org/2000/svg\" xmlns:xlink=\"http://www.w3.org/1999/xlink\" width=\"100.0\" height=\"100.0\" viewBox=\"-133.591838300225 8.155500000061544 54.000000000000014 54.0\" preserveAspectRatio=\"xMinYMin meet\"><g transform=\"matrix(1,0,0,-1,0,70.31100000012309)\"><path fill-rule=\"evenodd\" fill=\"#66cc99\" stroke=\"#555555\" stroke-width=\"1.0800000000000003\" opacity=\"0.6\" d=\"M -81.59183830022498,35.155500000061544 L -84.94120320561402,22.655500000061544 L -94.09183830022498,13.504864905450578 L -106.59183830022498,10.155500000061544 L -119.09183830022498,13.504864905450574 L -128.24247339483594,22.655500000061537 L -131.591838300225,35.155500000061544 L -128.24247339483594,47.65550000006154 L -119.09183830022499,56.8061350946725 L -106.59183830022498,60.155500000061544 L -94.09183830022499,56.80613509467252 L -84.94120320561402,47.65550000006155 L -81.59183830022498,35.155500000061544 z\" /></g></svg>"
      ],
      "text/plain": [
       "<POLYGON ((-81.592 35.156, -84.941 22.656, -94.092 13.505, -106.592 10.156, ...>"
      ]
     },
     "execution_count": 276,
     "metadata": {},
     "output_type": "execute_result"
    }
   ],
   "source": [
    "from shapely.geometry import Polygon\n",
    "from shapely.wkt import loads\n",
    "\n",
    "buffer = loads(data[0][0])\n",
    "buffer"
   ]
  },
  {
   "cell_type": "markdown",
   "id": "110257fa-e4e9-4de4-9a00-a806dc9ef446",
   "metadata": {},
   "source": [
    "## Distance and Near\n",
    "How do we query the database for the distance between two points and have it return records based on the distance from a specified point?\n",
    "PostGIS offers ST_Distance(a,b) for calculating distance."
   ]
  },
  {
   "cell_type": "code",
   "execution_count": 290,
   "id": "d1a58a03-5536-4049-bee1-6fd13f5736ef",
   "metadata": {},
   "outputs": [
    {
     "data": {
      "text/plain": [
       "(9560.45428363,)"
      ]
     },
     "execution_count": 290,
     "metadata": {},
     "output_type": "execute_result"
    }
   ],
   "source": [
    "cursor.execute(\"SELECT ST_Distance(a.location::geography,b.location::geography) FROM art_pieces a, art_pieces b \\\n",
    "WHERE a.code='101' and b.code='102' \")\n",
    "dist = cursor.fetchall()\n",
    "dist[0]"
   ]
  },
  {
   "cell_type": "markdown",
   "id": "51343173-c716-45ee-837c-59ecfc5cb3ff",
   "metadata": {},
   "source": [
    "We use ::geography to cast a geometry to a geography (in meters)"
   ]
  },
  {
   "cell_type": "markdown",
   "id": "3dc0dc4b-35dc-4838-a630-44fb97e6f525",
   "metadata": {},
   "source": [
    "What if I want distance of multiple points from a given point?"
   ]
  },
  {
   "cell_type": "code",
   "execution_count": 308,
   "id": "0eae5b99-e48d-4f9e-aba6-23bf20e34b45",
   "metadata": {},
   "outputs": [
    {
     "data": {
      "text/plain": [
       "[('101', 0.0),\n",
       " ('102', 9560.45428362),\n",
       " ('104', 4741.8711304),\n",
       " ('105', 9871.8424894),\n",
       " ('106', 7907.8263995)]"
      ]
     },
     "execution_count": 308,
     "metadata": {},
     "output_type": "execute_result"
    }
   ],
   "source": [
    "cursor.execute(\"SELECT code, ST_Distance(location::geography,ST_GeometryFromText('POINT(-106.591838300225 35.1555000000615)')::geography) as d from art_pieces LIMIT 5\")\n",
    "cursor.fetchall()"
   ]
  },
  {
   "cell_type": "markdown",
   "id": "17538c45-82f5-4c68-a752-513e13d217a5",
   "metadata": {},
   "source": [
    "- These are distances of all points from the specified point in the query"
   ]
  },
  {
   "cell_type": "code",
   "execution_count": null,
   "id": "8bbca3ae-c785-4c61-a887-12665cef0638",
   "metadata": {},
   "outputs": [],
   "source": []
  },
  {
   "cell_type": "markdown",
   "id": "8582e6d4-ba68-480f-a0c6-006abc1acc88",
   "metadata": {},
   "source": [
    "## Lines in the database"
   ]
  },
  {
   "cell_type": "code",
   "execution_count": 5,
   "id": "df328435-827b-4c37-9ae5-df9d4855a379",
   "metadata": {},
   "outputs": [],
   "source": [
    "from shapely.geometry import LineString\n",
    "from shapely.geometry import MultiLineString\n",
    "\n",
    "connection = psycopg2.connect(database=\"pythonspatial\",user=\"postgres\", password=\"\")\n",
    "cursor = connection.cursor()\n",
    "\n",
    "cursor.execute(\"CREATE TABLE IF NOT EXISTS lines (id SERIAL PRIMARY KEY, location GEOMETRY)\")\n",
    "thelines = [] \n",
    "thelines.append(LineString([(-106.635585, 35.086972), (-106.621294, 35.124997)]))\n",
    "thelines.append(LineString([(-106.498309, 35.140108), (-106.497010, 35.069488)]))\n",
    "thelines.append(LineString([(-106.663878, 35.106459), (-106.586506, 35.103979)]))\n",
    "\n",
    "# Create a MultiLineString from the LineStrings\n",
    "mls = MultiLineString(thelines)\n",
    "\n",
    "for a in thelines: \n",
    "    cursor.execute(\"INSERT INTO lines (location) VALUES (ST_GeomFromText('{}'))\".format(a.wkt))\n",
    "    connection.commit()"
   ]
  },
  {
   "cell_type": "code",
   "execution_count": 22,
   "id": "2883f7fe-0ed3-4e8f-a93a-99c6f2937988",
   "metadata": {},
   "outputs": [
    {
     "data": {
      "text/plain": [
       "[(1, 'LINESTRING(-106.635585 35.086972,-106.621294 35.124997)'),\n",
       " (2, 'LINESTRING(-106.498309 35.140108,-106.49701 35.069488)'),\n",
       " (3, 'LINESTRING(-106.663878 35.106459,-106.586506 35.103979)')]"
      ]
     },
     "execution_count": 22,
     "metadata": {},
     "output_type": "execute_result"
    }
   ],
   "source": [
    "cursor.execute(\"SELECT id, ST_AsText(location) FROM lines\")\n",
    "lines = cursor.fetchall()\n",
    "lines"
   ]
  },
  {
   "cell_type": "code",
   "execution_count": null,
   "id": "09525a9c-7cf8-438b-a395-fdabcd76c06d",
   "metadata": {},
   "outputs": [],
   "source": []
  },
  {
   "cell_type": "markdown",
   "id": "fe05e132-e7b1-4052-a4ef-de585291ca2e",
   "metadata": {},
   "source": [
    "## Length of a line \n",
    "Lines have a length and can intersect at a point. We use ST_Length() to get sthe length of the line"
   ]
  },
  {
   "cell_type": "code",
   "execution_count": 20,
   "id": "816d5d58-fd4b-4d08-93e4-4c87a1655cd8",
   "metadata": {},
   "outputs": [
    {
     "data": {
      "text/plain": [
       "[(1, 4415.210268081443), (3, 7059.458405023586), (2, 7835.654054081599)]"
      ]
     },
     "execution_count": 20,
     "metadata": {},
     "output_type": "execute_result"
    }
   ],
   "source": [
    "cursor.execute(\"SELECT id, ST_Length(location::geography) AS length FROM lines ORDER BY length\")\n",
    "cursor.fetchall()"
   ]
  },
  {
   "cell_type": "markdown",
   "id": "a925c3d7-522f-48da-9169-07831655c0e8",
   "metadata": {},
   "source": [
    "## Intersecting Lines \n",
    "- You can use ST_Intersects() - It returns true or false if the two lines are intersecting or not."
   ]
  },
  {
   "cell_type": "code",
   "execution_count": 54,
   "id": "88b64a9d-fab5-43e5-a434-84e68448d6a3",
   "metadata": {},
   "outputs": [
    {
     "data": {
      "text/plain": [
       "[(True,)]"
      ]
     },
     "execution_count": 54,
     "metadata": {},
     "output_type": "execute_result"
    }
   ],
   "source": [
    "cursor.execute(\"SELECT ST_Intersects(a.location::geography,b.location::geography) FROM lines a, lines b WHERE a.id=1 AND b.id=3\")\n",
    "cursor.fetchall()"
   ]
  },
  {
   "cell_type": "markdown",
   "id": "c3ad8b97-86c8-41ec-b017-3d121ad98ef8",
   "metadata": {},
   "source": [
    "This will tell us if the two lines intersects with each other. But where exactly do they intersect? - We use ST_Intersection() to get point where the two lines intersect."
   ]
  },
  {
   "cell_type": "code",
   "execution_count": 56,
   "id": "04db3b0f-0361-4b9f-bbd3-c07e05d50392",
   "metadata": {},
   "outputs": [
    {
     "data": {
      "text/plain": [
       "[('POINT(-106.62868446550843 35.10533709574849)',)]"
      ]
     },
     "execution_count": 56,
     "metadata": {},
     "output_type": "execute_result"
    }
   ],
   "source": [
    "cursor.execute(\"SELECT ST_AsText(ST_Intersection(a.location::geography, b.location::geography)) FROM lines a, lines b WHERE a.id=1 AND b.id=3\")\n",
    "cursor.fetchall()"
   ]
  },
  {
   "cell_type": "markdown",
   "id": "b8e4f424-c370-46c7-8343-5b874a9522c5",
   "metadata": {},
   "source": [
    "This is point where the two lines intersect."
   ]
  },
  {
   "cell_type": "markdown",
   "id": "77f23ebd-1e1c-48f6-a5d7-b358eeb1f094",
   "metadata": {},
   "source": [
    "## Polygons in the database\n",
    "- You can also store polygons in PostGIS."
   ]
  },
  {
   "cell_type": "code",
   "execution_count": 61,
   "id": "efa0e444-2f63-4c21-83ed-2122b14eeaaa",
   "metadata": {},
   "outputs": [],
   "source": [
    "from shapely.geometry import Polygon\n",
    "import psycopg2\n",
    "\n",
    "# Establish the database connection\n",
    "connection = psycopg2.connect(database=\"pythonspatial\", user=\"postgres\", password=\"\")\n",
    "cursor = connection.cursor()\n",
    "\n",
    "# Create the table with a geometry column\n",
    "cursor.execute(\"CREATE TABLE IF NOT EXISTS poly (id SERIAL PRIMARY KEY, location GEOMETRY)\")\n",
    "\n",
    "# Create a Polygon object\n",
    "a = Polygon([(-106.936763, 35.958191), (-106.944385, 35.239293),\n",
    "             (-106.452396, 35.281908), (-106.407844, 35.948708)])\n",
    "\n",
    "# Insert the Polygon into the table\n",
    "cursor.execute(\"INSERT INTO poly (location) VALUES (ST_GeomFromText('{}'))\".format(a.wkt))\n",
    "\n",
    "# Commit the transaction\n",
    "connection.commit()\n"
   ]
  },
  {
   "cell_type": "markdown",
   "id": "9f8a795b-0d32-4012-a084-aa876b2d521c",
   "metadata": {},
   "source": [
    "Return the area of the polygon"
   ]
  },
  {
   "cell_type": "code",
   "execution_count": 66,
   "id": "0b8241ed-204b-4c20-9c9a-f1a8fb7b92a9",
   "metadata": {},
   "outputs": [
    {
     "data": {
      "text/plain": [
       "[(3550790242.521051,)]"
      ]
     },
     "execution_count": 66,
     "metadata": {},
     "output_type": "execute_result"
    }
   ],
   "source": [
    "cursor.execute(\"SELECT ST_Area(location::geography) FROM poly\")\n",
    "cursor.fetchall()"
   ]
  },
  {
   "cell_type": "markdown",
   "id": "a6ae1f7a-2291-4dbd-b917-ec2dba514196",
   "metadata": {},
   "source": [
    "## Point in polygon\n",
    "How do we know if a point is in the polygon? To solve this we may use ST_Contains or ST_Intersects"
   ]
  },
  {
   "cell_type": "code",
   "execution_count": 74,
   "id": "63116a05-68fc-47b1-83f9-3dd6da188c5e",
   "metadata": {},
   "outputs": [
    {
     "data": {
      "text/plain": [
       "[(True,)]"
      ]
     },
     "execution_count": 74,
     "metadata": {},
     "output_type": "execute_result"
    }
   ],
   "source": [
    "from shapely.geometry import Point\n",
    "\n",
    "isin=Point(-106.558743,35.318618)\n",
    "cursor.execute(\"SELECT ST_Contains(polygon.location,ST_GeomFromText('{}')) FROM poly polygon WHERE polygon.id=1\".format(isin.wkt))\n",
    "cursor.fetchall()"
   ]
  },
  {
   "cell_type": "code",
   "execution_count": 78,
   "id": "45741fa2-8a08-49a8-8179-1cb3c01c3a3b",
   "metadata": {},
   "outputs": [
    {
     "data": {
      "text/plain": [
       "[(True,)]"
      ]
     },
     "execution_count": 78,
     "metadata": {},
     "output_type": "execute_result"
    }
   ],
   "source": [
    "isin=Point(-106.558743,35.318618)\n",
    "cursor.execute(\"SELECT ST_Intersects(ST_GeomFromText('{}')::geography,polygon.location::geometry) FROM poly polygon WHERE polygon.id=1\".format(isin.wkt))\n",
    "cursor.fetchall()"
   ]
  },
  {
   "cell_type": "code",
   "execution_count": null,
   "id": "eabb3526-1698-493a-9605-8a6380386fdc",
   "metadata": {},
   "outputs": [],
   "source": []
  },
  {
   "cell_type": "code",
   "execution_count": null,
   "id": "2707ba84-dfb8-440b-b769-1da1bd2cadbe",
   "metadata": {},
   "outputs": [],
   "source": []
  },
  {
   "cell_type": "code",
   "execution_count": null,
   "id": "2bb889f0-05fc-4ef7-8703-ebf7da8827ec",
   "metadata": {},
   "outputs": [],
   "source": []
  }
 ],
 "metadata": {
  "kernelspec": {
   "display_name": "Python 3 (ipykernel)",
   "language": "python",
   "name": "python3"
  },
  "language_info": {
   "codemirror_mode": {
    "name": "ipython",
    "version": 3
   },
   "file_extension": ".py",
   "mimetype": "text/x-python",
   "name": "python",
   "nbconvert_exporter": "python",
   "pygments_lexer": "ipython3",
   "version": "3.12.2"
  }
 },
 "nbformat": 4,
 "nbformat_minor": 5
}
