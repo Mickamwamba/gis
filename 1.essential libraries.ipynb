{
 "cells": [
  {
   "cell_type": "markdown",
   "id": "aa3c494f-bce5-4dd8-bd19-f7aa5731344e",
   "metadata": {},
   "source": [
    "# Essential libraries for geospatial data analysis"
   ]
  },
  {
   "cell_type": "markdown",
   "id": "f07b78e3-4148-4503-b7bc-b8d5c6c72d27",
   "metadata": {},
   "source": [
    "## GDAL/OGR - Geospatial Data Abstraction Library\n",
    "- Library written in C/C++ widely used for raster data. It supports reading and writing many raster file formats.\n",
    "- Installing GDAL gives you access to both GDAL and the OGR "
   ]
  },
  {
   "cell_type": "code",
   "execution_count": 19,
   "id": "4d288a8c-4f41-4681-9482-b013def1ea27",
   "metadata": {},
   "outputs": [],
   "source": [
    "from osgeo import gdal\n",
    "from osgeo import ogr"
   ]
  },
  {
   "cell_type": "code",
   "execution_count": 21,
   "id": "f9a64468-b484-4ef6-ad70-100ba741a42d",
   "metadata": {},
   "outputs": [
    {
     "data": {
      "text/plain": [
       "'3060200'"
      ]
     },
     "execution_count": 21,
     "metadata": {},
     "output_type": "execute_result"
    }
   ],
   "source": [
    "gdal.VersionInfo()"
   ]
  },
  {
   "cell_type": "markdown",
   "id": "4e41ca3c-347c-41e5-9aba-77b6c791863a",
   "metadata": {},
   "source": [
    "## GEOS - Geometry Engine Open Source \n",
    "- An open source computational library written in Java which provides various functionalities including a geometry model, geometric functions, \n",
    "spatial structures and algorithms and i/o capabilities. Example geospatial functions include within, contains, union, intersection etc..."
   ]
  },
  {
   "cell_type": "code",
   "execution_count": 35,
   "id": "da40eab5-0500-42c9-b3cd-cb43fc449722",
   "metadata": {},
   "outputs": [],
   "source": [
    "# “conda install -c conda-forge geos”"
   ]
  },
  {
   "cell_type": "markdown",
   "id": "2e839c64-1c72-402f-a423-ba399ad3d650",
   "metadata": {},
   "source": [
    "## Shapely\n",
    "- A python package for manipulation and analysis of planar features, using functions from GEOS. \n",
    "- It only deals with analyzing geometries and offers no capabilities for reading and writing geospatial files.\n",
    "- Shapely supports eight fundamental geometry types that are implemented as a class in the shapely.geometry module—points, multipoints, linestrings, multilinestrings, linearrings, multipolygons, polygons, and geometrycollections"
   ]
  },
  {
   "cell_type": "code",
   "execution_count": 41,
   "id": "3d04cffa-1fb8-43f1-8d70-e081ac0168b7",
   "metadata": {},
   "outputs": [
    {
     "name": "stdout",
     "output_type": "stream",
     "text": [
      "Collecting shapely\n",
      "  Downloading shapely-2.0.6-cp312-cp312-macosx_11_0_arm64.whl.metadata (7.0 kB)\n",
      "Requirement already satisfied: numpy<3,>=1.14 in /opt/anaconda3/lib/python3.12/site-packages (from shapely) (1.26.4)\n",
      "Downloading shapely-2.0.6-cp312-cp312-macosx_11_0_arm64.whl (1.3 MB)\n",
      "\u001b[2K   \u001b[90m━━━━━━━━━━━━━━━━━━━━━━━━━━━━━━━━━━━━━━━━\u001b[0m \u001b[32m1.3/1.3 MB\u001b[0m \u001b[31m2.7 MB/s\u001b[0m eta \u001b[36m0:00:00\u001b[0ma \u001b[36m0:00:01\u001b[0m\n",
      "\u001b[?25hInstalling collected packages: shapely\n",
      "Successfully installed shapely-2.0.6\n",
      "Note: you may need to restart the kernel to use updated packages.\n"
     ]
    }
   ],
   "source": [
    "pip install shapely"
   ]
  },
  {
   "cell_type": "markdown",
   "id": "41b65675-10ee-4218-9f65-677c7f78d529",
   "metadata": {},
   "source": [
    "## FIONA \n",
    "- Fiona is the API for OGR. It can be used to read and writing data formats.\n",
    "- Note: While OGR is written in C++, FIONA allows us to access similar functionalities through Python is much cleaner and easy way.\n",
    "- Ideally you would use Fiona for input and output, and Shapely for creating and manipulating geospatial data."
   ]
  },
  {
   "cell_type": "code",
   "execution_count": 50,
   "id": "176b9a74-2273-45be-b86a-3f43c91b1708",
   "metadata": {},
   "outputs": [
    {
     "name": "stdout",
     "output_type": "stream",
     "text": [
      "Collecting fiona\n",
      "  Downloading fiona-1.10.0-cp312-cp312-macosx_11_0_arm64.whl.metadata (56 kB)\n",
      "\u001b[2K     \u001b[90m━━━━━━━━━━━━━━━━━━━━━━━━━━━━━━━━━━━━━━━\u001b[0m \u001b[32m56.4/56.4 kB\u001b[0m \u001b[31m921.8 kB/s\u001b[0m eta \u001b[36m0:00:00\u001b[0m \u001b[36m0:00:01\u001b[0m\n",
      "\u001b[?25hRequirement already satisfied: attrs>=19.2.0 in /opt/anaconda3/lib/python3.12/site-packages (from fiona) (23.1.0)\n",
      "Requirement already satisfied: certifi in /opt/anaconda3/lib/python3.12/site-packages (from fiona) (2024.8.30)\n",
      "Requirement already satisfied: click~=8.0 in /opt/anaconda3/lib/python3.12/site-packages (from fiona) (8.1.7)\n",
      "Collecting click-plugins>=1.0 (from fiona)\n",
      "  Downloading click_plugins-1.1.1-py2.py3-none-any.whl.metadata (6.4 kB)\n",
      "Collecting cligj>=0.5 (from fiona)\n",
      "  Downloading cligj-0.7.2-py3-none-any.whl.metadata (5.0 kB)\n",
      "Downloading fiona-1.10.0-cp312-cp312-macosx_11_0_arm64.whl (14.8 MB)\n",
      "\u001b[2K   \u001b[90m━━━━━━━━━━━━━━━━━━━━━━━━━━━━━━━━━━━━━━━━\u001b[0m \u001b[32m14.8/14.8 MB\u001b[0m \u001b[31m9.8 MB/s\u001b[0m eta \u001b[36m0:00:00\u001b[0m:00:01\u001b[0m00:01\u001b[0m\n",
      "\u001b[?25hDownloading click_plugins-1.1.1-py2.py3-none-any.whl (7.5 kB)\n",
      "Downloading cligj-0.7.2-py3-none-any.whl (7.1 kB)\n",
      "Installing collected packages: cligj, click-plugins, fiona\n",
      "Successfully installed click-plugins-1.1.1 cligj-0.7.2 fiona-1.10.0\n",
      "Note: you may need to restart the kernel to use updated packages.\n"
     ]
    }
   ],
   "source": [
    "pip install fiona"
   ]
  },
  {
   "cell_type": "code",
   "execution_count": null,
   "id": "ea7daad4-d9f8-4471-a7c0-f43566078020",
   "metadata": {},
   "outputs": [],
   "source": []
  },
  {
   "cell_type": "markdown",
   "id": "d6ac9e63-2b78-493c-a181-5c8b33462559",
   "metadata": {},
   "source": [
    "## PYSHP - Python Shapefile\n",
    "- This is a pure python library used to read and write shapefiles.\n",
    "- It cannot be used for geometric operations. If you are only working with shapefiles, this is the one-file-only library is simpler than using GDAL."
   ]
  },
  {
   "cell_type": "code",
   "execution_count": 55,
   "id": "f5f6164c-6a6d-4c0a-ac4e-b026e4d6852e",
   "metadata": {},
   "outputs": [
    {
     "name": "stdout",
     "output_type": "stream",
     "text": [
      "Collecting pyshp\n",
      "  Using cached pyshp-2.3.1-py2.py3-none-any.whl.metadata (55 kB)\n",
      "Using cached pyshp-2.3.1-py2.py3-none-any.whl (46 kB)\n",
      "Installing collected packages: pyshp\n",
      "Successfully installed pyshp-2.3.1\n",
      "Note: you may need to restart the kernel to use updated packages.\n"
     ]
    }
   ],
   "source": [
    "pip install pyshp"
   ]
  },
  {
   "cell_type": "code",
   "execution_count": null,
   "id": "aa924971-0a82-4b81-89d7-cfc5fab27797",
   "metadata": {},
   "outputs": [],
   "source": []
  },
  {
   "cell_type": "markdown",
   "id": "d327455d-90d1-47b9-91fc-fd71697dc756",
   "metadata": {},
   "source": [
    "## PYPROJ \n",
    "- This is a python package that performs cartographic transformations and geodetic computations. It is a Cython wrapper to provide Python \n",
    "interface to PROJ.4 functions. \n",
    "- PROJ.4 is a projection library that transforms data among many coordinates systems and is also available through GDAL and OGR.\n"
   ]
  },
  {
   "cell_type": "code",
   "execution_count": 59,
   "id": "843250e5-5652-4cc4-841a-21d5ae1bc733",
   "metadata": {},
   "outputs": [
    {
     "name": "stdout",
     "output_type": "stream",
     "text": [
      "Collecting pyproj\n",
      "  Downloading pyproj-3.6.1-cp312-cp312-macosx_11_0_arm64.whl.metadata (31 kB)\n",
      "Requirement already satisfied: certifi in /opt/anaconda3/lib/python3.12/site-packages (from pyproj) (2024.8.30)\n",
      "Downloading pyproj-3.6.1-cp312-cp312-macosx_11_0_arm64.whl (4.9 MB)\n",
      "\u001b[2K   \u001b[90m━━━━━━━━━━━━━━━━━━━━━━━━━━━━━━━━━━━━━━━━\u001b[0m \u001b[32m4.9/4.9 MB\u001b[0m \u001b[31m7.9 MB/s\u001b[0m eta \u001b[36m0:00:00\u001b[0m00:01\u001b[0m00:01\u001b[0m\n",
      "\u001b[?25hInstalling collected packages: pyproj\n",
      "Successfully installed pyproj-3.6.1\n",
      "Note: you may need to restart the kernel to use updated packages.\n"
     ]
    }
   ],
   "source": [
    "pip install pyproj"
   ]
  },
  {
   "cell_type": "code",
   "execution_count": null,
   "id": "4c7630c4-b5c5-4ea2-b9f7-91bce72642cf",
   "metadata": {},
   "outputs": [],
   "source": []
  },
  {
   "cell_type": "markdown",
   "id": "5067415c-3efa-451b-a6d6-fece745f5798",
   "metadata": {},
   "source": [
    "## RASTERIO\n",
    "- A GDAL and Numpy-based Python library for raster data. "
   ]
  },
  {
   "cell_type": "code",
   "execution_count": 65,
   "id": "e1bee608-37dd-4af3-b181-9242c706ad79",
   "metadata": {},
   "outputs": [
    {
     "name": "stdout",
     "output_type": "stream",
     "text": [
      "Collecting rasterio\n",
      "  Downloading rasterio-1.3.11-cp312-cp312-macosx_11_0_arm64.whl.metadata (14 kB)\n",
      "Collecting affine (from rasterio)\n",
      "  Downloading affine-2.4.0-py3-none-any.whl.metadata (4.0 kB)\n",
      "Requirement already satisfied: attrs in /opt/anaconda3/lib/python3.12/site-packages (from rasterio) (23.1.0)\n",
      "Requirement already satisfied: certifi in /opt/anaconda3/lib/python3.12/site-packages (from rasterio) (2024.8.30)\n",
      "Requirement already satisfied: click>=4.0 in /opt/anaconda3/lib/python3.12/site-packages (from rasterio) (8.1.7)\n",
      "Requirement already satisfied: cligj>=0.5 in /opt/anaconda3/lib/python3.12/site-packages (from rasterio) (0.7.2)\n",
      "Requirement already satisfied: numpy in /opt/anaconda3/lib/python3.12/site-packages (from rasterio) (1.26.4)\n",
      "Collecting snuggs>=1.4.1 (from rasterio)\n",
      "  Downloading snuggs-1.4.7-py3-none-any.whl.metadata (3.4 kB)\n",
      "Requirement already satisfied: click-plugins in /opt/anaconda3/lib/python3.12/site-packages (from rasterio) (1.1.1)\n",
      "Requirement already satisfied: setuptools in /opt/anaconda3/lib/python3.12/site-packages (from rasterio) (69.5.1)\n",
      "Requirement already satisfied: pyparsing>=2.1.6 in /opt/anaconda3/lib/python3.12/site-packages (from snuggs>=1.4.1->rasterio) (3.0.9)\n",
      "Downloading rasterio-1.3.11-cp312-cp312-macosx_11_0_arm64.whl (18.4 MB)\n",
      "\u001b[2K   \u001b[90m━━━━━━━━━━━━━━━━━━━━━━━━━━━━━━━━━━━━━━━━\u001b[0m \u001b[32m18.4/18.4 MB\u001b[0m \u001b[31m10.6 MB/s\u001b[0m eta \u001b[36m0:00:00\u001b[0m00:01\u001b[0m00:01\u001b[0m\n",
      "\u001b[?25hDownloading snuggs-1.4.7-py3-none-any.whl (5.4 kB)\n",
      "Downloading affine-2.4.0-py3-none-any.whl (15 kB)\n",
      "Installing collected packages: snuggs, affine, rasterio\n",
      "Successfully installed affine-2.4.0 rasterio-1.3.11 snuggs-1.4.7\n",
      "Note: you may need to restart the kernel to use updated packages.\n"
     ]
    }
   ],
   "source": [
    "pip install rasterio"
   ]
  },
  {
   "cell_type": "markdown",
   "id": "630ffc16-13c1-4dc5-ad16-e0f005cc69b2",
   "metadata": {},
   "source": [
    "## GEOPANDAS\n",
    "- Is a Python library based on the pandas library for working with vector data."
   ]
  },
  {
   "cell_type": "code",
   "execution_count": 70,
   "id": "29667b85-d1d6-464b-b9a9-d89c85db7428",
   "metadata": {},
   "outputs": [
    {
     "name": "stdout",
     "output_type": "stream",
     "text": [
      "Collecting geopandas\n",
      "  Downloading geopandas-1.0.1-py3-none-any.whl.metadata (2.2 kB)\n",
      "Requirement already satisfied: numpy>=1.22 in /opt/anaconda3/lib/python3.12/site-packages (from geopandas) (1.26.4)\n",
      "Collecting pyogrio>=0.7.2 (from geopandas)\n",
      "  Downloading pyogrio-0.9.0-cp312-cp312-macosx_12_0_arm64.whl.metadata (3.8 kB)\n",
      "Requirement already satisfied: packaging in /opt/anaconda3/lib/python3.12/site-packages (from geopandas) (23.2)\n",
      "Requirement already satisfied: pandas>=1.4.0 in /opt/anaconda3/lib/python3.12/site-packages (from geopandas) (2.2.2)\n",
      "Requirement already satisfied: pyproj>=3.3.0 in /opt/anaconda3/lib/python3.12/site-packages (from geopandas) (3.6.1)\n",
      "Requirement already satisfied: shapely>=2.0.0 in /opt/anaconda3/lib/python3.12/site-packages (from geopandas) (2.0.6)\n",
      "Requirement already satisfied: python-dateutil>=2.8.2 in /opt/anaconda3/lib/python3.12/site-packages (from pandas>=1.4.0->geopandas) (2.9.0.post0)\n",
      "Requirement already satisfied: pytz>=2020.1 in /opt/anaconda3/lib/python3.12/site-packages (from pandas>=1.4.0->geopandas) (2024.1)\n",
      "Requirement already satisfied: tzdata>=2022.7 in /opt/anaconda3/lib/python3.12/site-packages (from pandas>=1.4.0->geopandas) (2023.3)\n",
      "Requirement already satisfied: certifi in /opt/anaconda3/lib/python3.12/site-packages (from pyogrio>=0.7.2->geopandas) (2024.8.30)\n",
      "Requirement already satisfied: six>=1.5 in /opt/anaconda3/lib/python3.12/site-packages (from python-dateutil>=2.8.2->pandas>=1.4.0->geopandas) (1.16.0)\n",
      "Downloading geopandas-1.0.1-py3-none-any.whl (323 kB)\n",
      "\u001b[2K   \u001b[90m━━━━━━━━━━━━━━━━━━━━━━━━━━━━━━━━━━━━━━━━\u001b[0m \u001b[32m323.6/323.6 kB\u001b[0m \u001b[31m2.2 MB/s\u001b[0m eta \u001b[36m0:00:00\u001b[0ma \u001b[36m0:00:01\u001b[0mm\n",
      "\u001b[?25hDownloading pyogrio-0.9.0-cp312-cp312-macosx_12_0_arm64.whl (14.7 MB)\n",
      "\u001b[2K   \u001b[90m━━━━━━━━━━━━━━━━━━━━━━━━━━━━━━━━━━━━━━━━\u001b[0m \u001b[32m14.7/14.7 MB\u001b[0m \u001b[31m10.0 MB/s\u001b[0m eta \u001b[36m0:00:00\u001b[0m00:01\u001b[0m00:01\u001b[0m\n",
      "\u001b[?25hInstalling collected packages: pyogrio, geopandas\n",
      "Successfully installed geopandas-1.0.1 pyogrio-0.9.0\n",
      "Note: you may need to restart the kernel to use updated packages.\n"
     ]
    }
   ],
   "source": [
    "pip install geopandas"
   ]
  },
  {
   "cell_type": "code",
   "execution_count": null,
   "id": "d813c41c-68c2-48c0-a6c5-1bf15fa48890",
   "metadata": {},
   "outputs": [],
   "source": []
  },
  {
   "cell_type": "markdown",
   "id": "333ec54e-81c2-4d5d-bce0-14c003d3c058",
   "metadata": {},
   "source": [
    "## Summary: \n",
    "- GDAL, OGR and GEOS are indispensable for geospatial processing but were not written in Python, therefore they require python binaries for\n",
    "Python developers. FIONA, Shapely, PYPROJ and RASTERIO were written to address this.\n",
    "- Many other libraries and software applications use GDAL functionality under the hood"
   ]
  },
  {
   "cell_type": "code",
   "execution_count": null,
   "id": "aea318d5-588d-4aab-951e-c653a55fbc75",
   "metadata": {},
   "outputs": [],
   "source": []
  }
 ],
 "metadata": {
  "kernelspec": {
   "display_name": "Python 3 (ipykernel)",
   "language": "python",
   "name": "python3"
  },
  "language_info": {
   "codemirror_mode": {
    "name": "ipython",
    "version": 3
   },
   "file_extension": ".py",
   "mimetype": "text/x-python",
   "name": "python",
   "nbconvert_exporter": "python",
   "pygments_lexer": "ipython3",
   "version": "3.12.4"
  }
 },
 "nbformat": 4,
 "nbformat_minor": 5
}
