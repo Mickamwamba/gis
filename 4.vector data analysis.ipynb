{
 "cells": [
  {
   "cell_type": "markdown",
   "id": "5f9bae1f-a5bf-4261-9742-7c26642dbcd5",
   "metadata": {},
   "source": [
    "## OGR Simple Features Library\n",
    "OGR Simple Features Library (part of the GDAL), offers set of tools for dealing with vector data. Although GDAL and OGR are highly intergrated, they can generally be separated as: \n",
    "- OGR for vector data\n",
    "- GDAL for raster data\n",
    "\n",
    "OGR has the following major parts: \n",
    "- OGR Commands\n",
    "- ogrmerge - an instant python script for merging multiple vector data files\n",
    "- OGR library itself"
   ]
  },
  {
   "cell_type": "markdown",
   "id": "1158356a-396b-4eff-a045-c5e64ee1a3b3",
   "metadata": {},
   "source": [
    "## OGR Commands\n",
    "OGR offers a series of batch commands that can be used to describe and convert existing geospatila vector data. e.g\n",
    "- ogrinfo - used for doing all sort of reporting on vector data -eg listing supported formats, available layers, summary etc\n",
    "- ogr2ogr - for doing vector data translations between different formats.\n",
    "- ogrtindex and ogr2vrt \n",
    "\n",
    "Both ogrinfor and ogr2ogr may be combined with sql queries to perform more complex spatial tasks. "
   ]
  },
  {
   "cell_type": "markdown",
   "id": "6a33fe56-fa7b-4726-9c14-5ff660ce6964",
   "metadata": {},
   "source": [
    "## OGR MERGE\n",
    "Along with the installation of gdal, comes a set of scripts that can be used for specialized geospatial tasks. In macos installations these scripts are located here: /opt/anaconda3/pkgs/gdal-3.6.2-py312h5ed0132_5/bin "
   ]
  },
  {
   "cell_type": "code",
   "execution_count": 18,
   "id": "257df1fd-e4f9-4098-a31a-805072814101",
   "metadata": {},
   "outputs": [
    {
     "name": "stderr",
     "output_type": "stream",
     "text": [
      "Warning 1: A geometry of type MULTILINESTRING is inserted into layer ne_10m_roads of geometry type LINESTRING, which is not normally allowed by the GeoPackage specification, but the driver will however do it. To create a conformant GeoPackage, if using ogr2ogr, the -nlt option can be used to override the layer geometry type. This warning will no longer be emitted for this combination of layer and feature geometry type.\n",
      "Warning 1: A geometry of type MULTILINESTRING is inserted into layer ne_10m_parks_and_protected_lands_line of geometry type LINESTRING, which is not normally allowed by the GeoPackage specification, but the driver will however do it. To create a conformant GeoPackage, if using ogr2ogr, the -nlt option can be used to override the layer geometry type. This warning will no longer be emitted for this combination of layer and feature geometry type.\n",
      "Warning 1: A geometry of type MULTIPOLYGON is inserted into layer ne_10m_admin_2_counties_lakes of geometry type POLYGON, which is not normally allowed by the GeoPackage specification, but the driver will however do it. To create a conformant GeoPackage, if using ogr2ogr, the -nlt option can be used to override the layer geometry type. This warning will no longer be emitted for this combination of layer and feature geometry type.\n",
      "Warning 1: A geometry of type MULTIPOLYGON is inserted into layer ne_10m_admin_0_map_units of geometry type POLYGON, which is not normally allowed by the GeoPackage specification, but the driver will however do it. To create a conformant GeoPackage, if using ogr2ogr, the -nlt option can be used to override the layer geometry type. This warning will no longer be emitted for this combination of layer and feature geometry type.\n",
      "Warning 1: A geometry of type MULTIPOLYGON is inserted into layer ne_10m_admin_1_states_provinces_lakes of geometry type POLYGON, which is not normally allowed by the GeoPackage specification, but the driver will however do it. To create a conformant GeoPackage, if using ogr2ogr, the -nlt option can be used to override the layer geometry type. This warning will no longer be emitted for this combination of layer and feature geometry type.\n",
      "Warning 1: A geometry of type MULTILINESTRING is inserted into layer ne_10m_admin_1_states_provinces_lines of geometry type LINESTRING, which is not normally allowed by the GeoPackage specification, but the driver will however do it. To create a conformant GeoPackage, if using ogr2ogr, the -nlt option can be used to override the layer geometry type. This warning will no longer be emitted for this combination of layer and feature geometry type.\n",
      "Warning 1: A geometry of type MULTIPOLYGON is inserted into layer ne_10m_admin_0_disputed_areas of geometry type POLYGON, which is not normally allowed by the GeoPackage specification, but the driver will however do it. To create a conformant GeoPackage, if using ogr2ogr, the -nlt option can be used to override the layer geometry type. This warning will no longer be emitted for this combination of layer and feature geometry type.\n",
      "Warning 1: A geometry of type MULTILINESTRING is inserted into layer ne_10m_admin_0_boundary_lines_land of geometry type LINESTRING, which is not normally allowed by the GeoPackage specification, but the driver will however do it. To create a conformant GeoPackage, if using ogr2ogr, the -nlt option can be used to override the layer geometry type. This warning will no longer be emitted for this combination of layer and feature geometry type.\n",
      "Warning 1: A geometry of type MULTIPOLYGON is inserted into layer ne_10m_admin_1_states_provinces of geometry type POLYGON, which is not normally allowed by the GeoPackage specification, but the driver will however do it. To create a conformant GeoPackage, if using ogr2ogr, the -nlt option can be used to override the layer geometry type. This warning will no longer be emitted for this combination of layer and feature geometry type.\n",
      "Warning 1: A geometry of type MULTIPOLYGON is inserted into layer ne_10m_parks_and_protected_lands_area of geometry type POLYGON, which is not normally allowed by the GeoPackage specification, but the driver will however do it. To create a conformant GeoPackage, if using ogr2ogr, the -nlt option can be used to override the layer geometry type. This warning will no longer be emitted for this combination of layer and feature geometry type.\n",
      "Warning 1: A geometry of type MULTIPOLYGON is inserted into layer ne_10m_admin_0_map_subunits of geometry type POLYGON, which is not normally allowed by the GeoPackage specification, but the driver will however do it. To create a conformant GeoPackage, if using ogr2ogr, the -nlt option can be used to override the layer geometry type. This warning will no longer be emitted for this combination of layer and feature geometry type.\n",
      "Warning 1: A geometry of type MULTILINESTRING is inserted into layer ne_10m_admin_0_boundary_lines_disputed_areas of geometry type LINESTRING, which is not normally allowed by the GeoPackage specification, but the driver will however do it. To create a conformant GeoPackage, if using ogr2ogr, the -nlt option can be used to override the layer geometry type. This warning will no longer be emitted for this combination of layer and feature geometry type.\n",
      "Warning 1: A geometry of type MULTIPOLYGON is inserted into layer ne_10m_admin_0_countries of geometry type POLYGON, which is not normally allowed by the GeoPackage specification, but the driver will however do it. To create a conformant GeoPackage, if using ogr2ogr, the -nlt option can be used to override the layer geometry type. This warning will no longer be emitted for this combination of layer and feature geometry type.\n"
     ]
    }
   ],
   "source": [
    "%run \"/opt/anaconda3/pkgs/gdal-3.6.2-py312h5ed0132_5/bin/ogrmerge.py\" -f GPKG -o data/merged.gpkg \"data/NE/10m_cultural//*.shp\" "
   ]
  },
  {
   "cell_type": "markdown",
   "id": "c54c0d6a-141c-4c50-9e11-5caed9e8cf53",
   "metadata": {},
   "source": [
    "## OGR LIBRARY and Python Bindings\n",
    "Using OGR Library and the Python bindings, we are able to work with vector data in python, allowing us to create points, lines and polygons and perform geospatial operations on these elements. \n",
    "\n",
    "The OGR library consist of two main modules - ogr and osr, both are part of the osgeo module. The ogr deals with vector geometry while the osr deals with the projections. \n",
    "\n",
    "OGR offers the following seven classes: \n",
    "- Geometry\n",
    "- Spatial Reference\n",
    "- Feature\n",
    "- Feature Class Definition\n",
    "- Layer\n",
    "- Dataset\n",
    "- Drivers"
   ]
  },
  {
   "cell_type": "markdown",
   "id": "495cfb82-edcf-4968-b131-597b2e78d268",
   "metadata": {},
   "source": [
    "## Creating Polygon with OGR \n",
    "OGR lets you write vector geometries such as points, lines, mulitipoints, multilinestrings, multipolygons and geometry collections. \n",
    "You can give these geometry values in coordinates or meters if you plan to project them later. All geometries you create follow the same \n",
    "procedure, separate points are defined and then strung together as lines or polygons. You define separate entities in numbers, encode them \n",
    "in well-known binary (WKB), and the final polygon is translated to well-known text (WKT)."
   ]
  },
  {
   "cell_type": "code",
   "execution_count": 24,
   "id": "05dae6ed-deb3-409f-8814-5507ecac3711",
   "metadata": {},
   "outputs": [
    {
     "name": "stdout",
     "output_type": "stream",
     "text": [
      "POLYGON ((1 1 0,5 1 0,5 5 0,1 5 0,1 1 0))\n"
     ]
    }
   ],
   "source": [
    "from osgeo import ogr\n",
    "r = ogr.Geometry(ogr.wkbLinearRing)\n",
    "r.AddPoint(1,1)\n",
    "r.AddPoint(5,1)\n",
    "r.AddPoint(5,5)\n",
    "r.AddPoint(1,5)\n",
    "r.AddPoint(1,1)\n",
    "poly = ogr.Geometry(ogr.wkbPolygon)\n",
    "poly.AddGeometry(r)\n",
    "print(poly.ExportToWkt())\n"
   ]
  },
  {
   "cell_type": "markdown",
   "id": "0b264a8b-f950-481f-892f-4eb7404c7426",
   "metadata": {},
   "source": [
    "## Creating polygon geometry from GeoJSON\n"
   ]
  },
  {
   "cell_type": "code",
   "execution_count": 35,
   "id": "72c4e170-aa4f-4f75-ab89-a52ce594b936",
   "metadata": {},
   "outputs": [],
   "source": [
    "from osgeo import ogr\n",
    "geojson = \"\"\" {\"type\":\"Polygon\",\"coordinates\":[[[1,1],[5,1],[5,5],[1,5],[1,1]]]}\"\"\""
   ]
  },
  {
   "cell_type": "code",
   "execution_count": 37,
   "id": "d2225392-ec7f-45b0-a9cf-c496db5d9b5d",
   "metadata": {},
   "outputs": [
    {
     "name": "stdout",
     "output_type": "stream",
     "text": [
      "POLYGON ((1 1,5 1,5 5,1 5,1 1))\n"
     ]
    }
   ],
   "source": [
    "polygon = ogr.CreateGeometryFromJson(geojson)\n",
    "print(polygon)"
   ]
  },
  {
   "cell_type": "markdown",
   "id": "d5f9fceb-bb84-41a7-9f05-740a94e26070",
   "metadata": {},
   "source": [
    "## Basic Geometric Operations "
   ]
  },
  {
   "cell_type": "code",
   "execution_count": 48,
   "id": "5efc75e4-b189-462d-bda9-f56e508e936e",
   "metadata": {},
   "outputs": [
    {
     "name": "stdout",
     "output_type": "stream",
     "text": [
      "The area of the polygon is 16.0\n"
     ]
    }
   ],
   "source": [
    "# Get Polygon Area\n",
    "print(\"The area of the polygon is {}\".format(polygon.Area()))"
   ]
  },
  {
   "cell_type": "code",
   "execution_count": 50,
   "id": "7ec9541b-fce1-44ca-aacf-74fe759a8666",
   "metadata": {},
   "outputs": [
    {
     "name": "stdout",
     "output_type": "stream",
     "text": [
      "The centroid of the polygon is POINT (3 3)\n"
     ]
    }
   ],
   "source": [
    "# Get Polygon Area\n",
    "print(\"The centroid of the polygon is {}\".format(polygon.Centroid()))"
   ]
  },
  {
   "cell_type": "code",
   "execution_count": 52,
   "id": "e17d7352-5dad-4b50-a78e-12d4794fb8bf",
   "metadata": {},
   "outputs": [
    {
     "name": "stdout",
     "output_type": "stream",
     "text": [
      "LINESTRING (1 1,5 1,5 5,1 5,1 1)\n"
     ]
    }
   ],
   "source": [
    "# Get the boundary : \n",
    "b = polygon.GetBoundary()\n",
    "print(b)"
   ]
  },
  {
   "cell_type": "code",
   "execution_count": 70,
   "id": "05405cb6-4d52-4a3c-9125-1d344443a97f",
   "metadata": {},
   "outputs": [
    {
     "data": {
      "text/plain": [
       "[<matplotlib.patches.Polygon at 0x176ab0d10>]"
      ]
     },
     "execution_count": 70,
     "metadata": {},
     "output_type": "execute_result"
    },
    {
     "data": {
      "image/png": "[encoded data removed]",
      "text/plain": [
       "<Figure size 640x480 with 1 Axes>"
      ]
     },
     "metadata": {},
     "output_type": "display_data"
    }
   ],
   "source": [
    "x = []\n",
    "y = []\n",
    "for i in range(b.GetPointCount()):\n",
    "    lon, lat, _ = b.GetPoint(i)\n",
    "    x.append(lon)\n",
    "    y.append(lat)\n",
    "\n",
    "# Step 3: Plot the polygon boundary using matplotlib\n",
    "plt.plot(x, y, marker='o', color='r')  # Plot the boundary with points (marker='o')\n",
    "plt.fill(x, y, color='lightblue', alpha=0.5)  # Fill"
   ]
  },
  {
   "cell_type": "markdown",
   "id": "60f4abb2-d6be-40ff-ad27-93669609c36c",
   "metadata": {},
   "source": [
    "ConvexHull will do the same thing in this case since the polygon is a square "
   ]
  },
  {
   "cell_type": "code",
   "execution_count": 73,
   "id": "939f583a-e87d-4fb1-90b3-5498c7e4dbfc",
   "metadata": {},
   "outputs": [
    {
     "name": "stdout",
     "output_type": "stream",
     "text": [
      "POLYGON ((1 1,1 5,5 5,5 1,1 1))\n"
     ]
    }
   ],
   "source": [
    "ch = polygon.ConvexHull()\n",
    "print(ch)"
   ]
  },
  {
   "cell_type": "markdown",
   "id": "48fc506f-0e05-4b26-967f-c67c91b665d7",
   "metadata": {},
   "source": [
    "## Writing polygon data to a newly created shapefile\n",
    "NOTE: Our current polygon only exists in memory. We want to create a new shapefile and the polygon geometry to this shapefile."
   ]
  },
  {
   "cell_type": "code",
   "execution_count": 91,
   "id": "84227fce-9011-40f4-b0b3-81efd6a2ac07",
   "metadata": {},
   "outputs": [
    {
     "data": {
      "text/plain": [
       "0"
      ]
     },
     "execution_count": 91,
     "metadata": {},
     "output_type": "execute_result"
    }
   ],
   "source": [
    "import osgeo.ogr, osgeo.osr\n",
    "#Set the spatial reference\n",
    "\n",
    "spatialReference = osgeo.osr.SpatialReference()\n",
    "spatialReference.ImportFromProj4('+proj=longlat +ellps=WGS84 +datum=WGS84 +no_defs')\n",
    "\n",
    "# create a new shapefile \n",
    "driver = osgeo.ogr.GetDriverByName('ESRI Shapefile')\n",
    "shapeData = driver.CreateDataSource('data/sample_polygon/my_polygon.shp')\n",
    "\n",
    "# create the layer \n",
    "layer = shapeData.CreateLayer('polygon_layer',spatialReference,osgeo.ogr.wkbPolygon)\n",
    "layerDefinition = layer.GetLayerDefn()\n",
    "\n",
    "# geometry is put inside the feature\n",
    "featureIndex = 0\n",
    "feature = osgeo.ogr.Feature(layerDefinition)\n",
    "feature.SetGeometry(polygon)\n",
    "feature.SetFID(featureIndex)\n",
    "\n",
    "#5 feature is put into the layer \n",
    "layer.CreateFeature(feature)"
   ]
  },
  {
   "cell_type": "markdown",
   "id": "e21d29c8-4b3a-4359-9c14-74974ddd2e44",
   "metadata": {},
   "source": [
    "We can use ogr to see if the file has been created successfuly"
   ]
  },
  {
   "cell_type": "code",
   "execution_count": 94,
   "id": "44cd411c-32ed-4f17-a36f-542dbd9e5685",
   "metadata": {},
   "outputs": [
    {
     "name": "stdout",
     "output_type": "stream",
     "text": [
      "INFO: Open of `data/sample_polygon/my_polygon.shp'\n",
      "      using driver `ESRI Shapefile' successful.\n",
      "1: my_polygon (Polygon)\n"
     ]
    }
   ],
   "source": [
    "!ogrinfo data/sample_polygon/my_polygon.shp "
   ]
  },
  {
   "cell_type": "markdown",
   "id": "b357e27b-b9d8-4b91-a8b3-866117e98c48",
   "metadata": {},
   "source": [
    "## Using a spatial filter to select features"
   ]
  },
  {
   "cell_type": "code",
   "execution_count": 120,
   "id": "5d52b69a-1bfc-49fb-aa53-60e12bed8f75",
   "metadata": {},
   "outputs": [
    {
     "name": "stdout",
     "output_type": "stream",
     "text": [
      "Ardmore\n",
      "McAlester\n",
      "Bryan\n",
      "San Marcos\n",
      "Longview\n",
      "McAllen\n",
      "Harlingen\n",
      "Alice\n",
      "New Braunfels\n",
      "Cleburne\n",
      "Brownwood\n",
      "Big Spring\n",
      "Vernon\n",
      "Childress\n",
      "Texas City\n",
      "Pasadena\n",
      "Baytown\n",
      "Arlington\n",
      "Texarkana\n",
      "Fort Smith\n",
      "Lawton\n",
      "Norman\n",
      "Muskogee\n",
      "Shawnee\n",
      "Conroe\n",
      "Nacogdoches\n",
      "Eagle Pass\n",
      "Edinburg\n",
      "Kingsville\n",
      "Huntsville\n",
      "Killeen\n",
      "Lufkin\n",
      "Del Rio\n",
      "San Angelo\n",
      "Sherman\n",
      "Beaumont\n",
      "Bay City\n",
      "Port Lavaca\n",
      "Falfurrias\n",
      "Beeville\n",
      "Dumas\n",
      "Denton\n",
      "Temple\n",
      "Galveston\n",
      "Freeport\n",
      "Victoria\n",
      "Wichita Falls\n",
      "Waco\n",
      "Lubbock\n",
      "Abilene\n",
      "Tyler\n",
      "Ft.  Worth\n",
      "Corpus Christi\n",
      "Austin\n",
      "Amarillo\n",
      "Laredo\n",
      "Oklahoma City\n",
      "San Antonio\n",
      "Dallas\n",
      "Houston\n"
     ]
    }
   ],
   "source": [
    "#import the modules \n",
    "\n",
    "from osgeo import ogr\n",
    "import os\n",
    "\n",
    "#reference the shapefile and specify driver type\n",
    "cwd = os.getcwd()\n",
    "shapefile = os.path.join(cwd,\"data/NE/10m_cultural/ne_10m_populated_places.shp\")\n",
    "driver = ogr.GetDriverByName(\"ESRI Shapefile\")\n",
    "\n",
    "# open the data source with driver, zero means open in read only mode \n",
    "dataSource = driver.Open(shapefile,0)\n",
    "#use the GetLayer() function for referencing the layer that holds the data\n",
    "\n",
    "layer = dataSource.GetLayer()\n",
    "#pass in the coordinates for the dataframes to the SetSpatialFilterRect() function, this filter creates a rectagular extent and \n",
    "#select features inside the extent \n",
    "layer.SetSpatialFilterRect(-102,26,-94,36) \n",
    "for feature in layer: \n",
    "    #select only the cities inside the USA\n",
    "    if feature.GetField(\"ADM0NAME\") != \"United States of America\":\n",
    "        continue; \n",
    "    else: \n",
    "        print(feature.GetField(\"NAME\"))"
   ]
  },
  {
   "cell_type": "code",
   "execution_count": null,
   "id": "52a524bf-a6c0-4ece-a6ed-c3573b33b9f7",
   "metadata": {},
   "outputs": [],
   "source": []
  },
  {
   "cell_type": "markdown",
   "id": "af669f3f-6078-4743-828d-74495b3ae471",
   "metadata": {},
   "source": [
    "## Shapely and Fiona \n",
    "Shapely depends on other libraries for reading and writing file. Fiona can be used to complement shapely.\n",
    "- The Shapely library is used for creating and manipulating 2D vector data without the need for a spatial database.\n",
    "- Also the shapely library does not deal with projections and data formats, it only deal with geometry.\n",
    "- Its biggest strength is that uses easily-readable syntax to create a variety of geometries that can be used for geometric operations. "
   ]
  },
  {
   "cell_type": "markdown",
   "id": "a6029351-f9f5-4402-b962-8c03177492f7",
   "metadata": {},
   "source": [
    "### Shapely methods for geospatial analysis\n",
    "- Topological relationships are implemented as methods on geometric objects (e.g contains, touches and more)\n",
    "- Shapely also provides analysis methods that return new geometric objects (intersections,unions and more)"
   ]
  },
  {
   "cell_type": "markdown",
   "id": "b7c25506-aafe-4d1b-afcb-afc8198dd5dd",
   "metadata": {},
   "source": [
    "## FIONA's data model\n",
    "Although Fiona is OGR's Python wrapper, Fiona uses a data model that differes from OGR. While OGR uses data sources,layers and features, Fiona uses the term records for accessing geographic features stored in vector data. When reading a shapefile with Fiona, you reference a record through one of its keys, using python dictionary object. A record has ID,geometry, and property key."
   ]
  },
  {
   "cell_type": "markdown",
   "id": "264d6040-9bf0-4abe-89bc-cbdbe0018918",
   "metadata": {},
   "source": [
    "## Examples: "
   ]
  },
  {
   "cell_type": "markdown",
   "id": "21e1b73c-7795-4662-9abb-f1b7dff4ab29",
   "metadata": {},
   "source": [
    "## Creating geometries with Shapely\n",
    "Just like OGR, you can use Shapely to create geometries. Jupyter Notebook will plot the geometries after you have create them. "
   ]
  },
  {
   "cell_type": "code",
   "execution_count": 132,
   "id": "4dae5804-10d8-471c-976f-a932743fbb80",
   "metadata": {},
   "outputs": [
    {
     "data": {
      "image/svg+xml": [
       "<svg xmlns=\"http://www.w3.org/2000/svg\" xmlns:xlink=\"http://www.w3.org/1999/xlink\" width=\"100.0\" height=\"100.0\" viewBox=\"0.72 1.72 4.5600000000000005 7.56\" preserveAspectRatio=\"xMinYMin meet\"><g transform=\"matrix(1,0,0,-1,0,11.0)\"><path fill-rule=\"evenodd\" fill=\"#66cc99\" stroke=\"#555555\" stroke-width=\"0.1512\" opacity=\"0.6\" d=\"M 1.0,2.0 L 5.0,3.0 L 5.0,7.0 L 1.0,9.0 L 1.0,2.0 z\" /></g></svg>"
      ],
      "text/plain": [
       "<POLYGON ((1 2, 5 3, 5 7, 1 9, 1 2))>"
      ]
     },
     "execution_count": 132,
     "metadata": {},
     "output_type": "execute_result"
    }
   ],
   "source": [
    "from shapely.geometry import Polygon\n",
    "p1 = Polygon(((1, 2), (5, 3), (5, 7), (1, 9), (1, 2)))\n",
    "p2 = Polygon(((6,6), (7,6), (10,4), (11,8), (6,6)))\n",
    "p1"
   ]
  },
  {
   "cell_type": "code",
   "execution_count": 134,
   "id": "39dd9f74-6419-4343-ab20-4c6e5bd99b48",
   "metadata": {},
   "outputs": [
    {
     "data": {
      "image/svg+xml": [
       "<svg xmlns=\"http://www.w3.org/2000/svg\" xmlns:xlink=\"http://www.w3.org/1999/xlink\" width=\"100.0\" height=\"100.0\" viewBox=\"5.8 3.8 5.3999999999999995 4.3999999999999995\" preserveAspectRatio=\"xMinYMin meet\"><g transform=\"matrix(1,0,0,-1,0,12.0)\"><path fill-rule=\"evenodd\" fill=\"#66cc99\" stroke=\"#555555\" stroke-width=\"0.10799999999999998\" opacity=\"0.6\" d=\"M 6.0,6.0 L 7.0,6.0 L 10.0,4.0 L 11.0,8.0 L 6.0,6.0 z\" /></g></svg>"
      ],
      "text/plain": [
       "<POLYGON ((6 6, 7 6, 10 4, 11 8, 6 6))>"
      ]
     },
     "execution_count": 134,
     "metadata": {},
     "output_type": "execute_result"
    }
   ],
   "source": [
    "p2"
   ]
  },
  {
   "cell_type": "code",
   "execution_count": 136,
   "id": "831bd829-bcbf-42b8-b113-3e43a4eb674a",
   "metadata": {},
   "outputs": [
    {
     "data": {
      "image/svg+xml": [
       "<svg xmlns=\"http://www.w3.org/2000/svg\" xmlns:xlink=\"http://www.w3.org/1999/xlink\" width=\"100.0\" height=\"100.0\" viewBox=\"1.0 1.0 2.0 2.0\" preserveAspectRatio=\"xMinYMin meet\"><g transform=\"matrix(1,0,0,-1,0,4.0)\"><circle cx=\"2.0\" cy=\"2.0\" r=\"0.06\" stroke=\"#555555\" stroke-width=\"0.02\" fill=\"#66cc99\" opacity=\"0.6\" /></g></svg>"
      ],
      "text/plain": [
       "<POINT (2 2)>"
      ]
     },
     "execution_count": 136,
     "metadata": {},
     "output_type": "execute_result"
    }
   ],
   "source": [
    "# Point takes tuples as well as positional coordinates values \n",
    "from shapely.geometry import Point\n",
    "point = Point(2.0,2.0)\n",
    "q = Point((2.0,2.0))\n",
    "q"
   ]
  },
  {
   "cell_type": "code",
   "execution_count": 138,
   "id": "e72e90c2-cda4-495d-9370-fae93d0716cc",
   "metadata": {},
   "outputs": [
    {
     "data": {
      "image/svg+xml": [
       "<svg xmlns=\"http://www.w3.org/2000/svg\" xmlns:xlink=\"http://www.w3.org/1999/xlink\" width=\"100.0\" height=\"100.0\" viewBox=\"-0.4 -0.4 10.8 10.8\" preserveAspectRatio=\"xMinYMin meet\"><g transform=\"matrix(1,0,0,-1,0,10.0)\"><polyline fill=\"none\" stroke=\"#66cc99\" stroke-width=\"0.21600000000000003\" points=\"0.0,0.0 10.0,10.0\" opacity=\"0.8\" /></g></svg>"
      ],
      "text/plain": [
       "<LINESTRING (0 0, 10 10)>"
      ]
     },
     "execution_count": 138,
     "metadata": {},
     "output_type": "execute_result"
    }
   ],
   "source": [
    "#Line Geometry \n",
    "from shapely.geometry import LineString\n",
    "line = LineString([(0,0),(10,10)])\n",
    "line"
   ]
  },
  {
   "cell_type": "code",
   "execution_count": 142,
   "id": "2f89ffb4-f3ad-4b6e-98fe-279d9a0f6901",
   "metadata": {},
   "outputs": [
    {
     "data": {
      "image/svg+xml": [
       "<svg xmlns=\"http://www.w3.org/2000/svg\" xmlns:xlink=\"http://www.w3.org/1999/xlink\" width=\"100.0\" height=\"100.0\" viewBox=\"-0.12 -0.12 3.24 3.24\" preserveAspectRatio=\"xMinYMin meet\"><g transform=\"matrix(1,0,0,-1,0,3.0)\"><polyline fill=\"none\" stroke=\"#66cc99\" stroke-width=\"0.06480000000000001\" points=\"0.0,0.0 3.0,3.0 3.0,0.0 0.0,0.0\" opacity=\"0.8\" /></g></svg>"
      ],
      "text/plain": [
       "<LINEARRING (0 0, 3 3, 3 0, 0 0)>"
      ]
     },
     "execution_count": 142,
     "metadata": {},
     "output_type": "execute_result"
    }
   ],
   "source": [
    "# Linear rings \n",
    "from shapely.geometry import LinearRing\n",
    "ring = LinearRing([(0,0),(3,3),(3,0)])\n",
    "ring"
   ]
  },
  {
   "cell_type": "code",
   "execution_count": 144,
   "id": "97b8ca91-e38d-4b91-9719-d54bb817c788",
   "metadata": {},
   "outputs": [
    {
     "data": {
      "image/svg+xml": [
       "<svg xmlns=\"http://www.w3.org/2000/svg\" xmlns:xlink=\"http://www.w3.org/1999/xlink\" width=\"100.0\" height=\"100.0\" viewBox=\"-0.12 -0.12 3.24 3.24\" preserveAspectRatio=\"xMinYMin meet\"><g transform=\"matrix(1,0,0,-1,0,3.0)\"><g><circle cx=\"0.0\" cy=\"0.0\" r=\"0.09720000000000001\" stroke=\"#555555\" stroke-width=\"0.032400000000000005\" fill=\"#66cc99\" opacity=\"0.6\" /><circle cx=\"3.0\" cy=\"3.0\" r=\"0.09720000000000001\" stroke=\"#555555\" stroke-width=\"0.032400000000000005\" fill=\"#66cc99\" opacity=\"0.6\" /></g></g></svg>"
      ],
      "text/plain": [
       "<MULTIPOINT (0 0, 3 3)>"
      ]
     },
     "execution_count": 144,
     "metadata": {},
     "output_type": "execute_result"
    }
   ],
   "source": [
    "#collection of points \n",
    "from shapely.geometry import MultiPoint\n",
    "points = MultiPoint([(0.0,0.0),(3.0,3.0)])\n",
    "points"
   ]
  },
  {
   "cell_type": "code",
   "execution_count": 148,
   "id": "88902cb0-7d33-44b0-83e9-e2ad7b940375",
   "metadata": {},
   "outputs": [
    {
     "data": {
      "image/svg+xml": [
       "<svg xmlns=\"http://www.w3.org/2000/svg\" xmlns:xlink=\"http://www.w3.org/1999/xlink\" width=\"100.0\" height=\"100.0\" viewBox=\"-1.08 -0.08 2.16 1.1600000000000001\" preserveAspectRatio=\"xMinYMin meet\"><g transform=\"matrix(1,0,0,-1,0,1.0)\"><g><polyline fill=\"none\" stroke=\"#66cc99\" stroke-width=\"0.0432\" points=\"0.0,0.0 1.0,1.0\" opacity=\"0.8\" /><polyline fill=\"none\" stroke=\"#66cc99\" stroke-width=\"0.0432\" points=\"-1.0,0.0 1.0,0.0\" opacity=\"0.8\" /></g></g></svg>"
      ],
      "text/plain": [
       "<MULTILINESTRING ((0 0, 1 1), (-1 0, 1 0))>"
      ]
     },
     "execution_count": 148,
     "metadata": {},
     "output_type": "execute_result"
    }
   ],
   "source": [
    "# collection of lines \n",
    "from shapely.geometry import MultiLineString\n",
    "coords = [((0, 0), (1, 1)), ((-1, 0), (1, 0))]\n",
    "lines = MultiLineString(coords)\n",
    "lines"
   ]
  },
  {
   "cell_type": "code",
   "execution_count": 150,
   "id": "8e43457f-6fae-43c0-aa31-21fec74d049f",
   "metadata": {},
   "outputs": [
    {
     "data": {
      "image/svg+xml": [
       "<svg xmlns=\"http://www.w3.org/2000/svg\" xmlns:xlink=\"http://www.w3.org/1999/xlink\" width=\"100.0\" height=\"100.0\" viewBox=\"0.6 1.6 10.8 7.800000000000001\" preserveAspectRatio=\"xMinYMin meet\"><g transform=\"matrix(1,0,0,-1,0,11.0)\"><g><path fill-rule=\"evenodd\" fill=\"#66cc99\" stroke=\"#555555\" stroke-width=\"0.21600000000000003\" opacity=\"0.6\" d=\"M 1.0,2.0 L 5.0,3.0 L 5.0,7.0 L 1.0,9.0 L 1.0,2.0 z\" /><path fill-rule=\"evenodd\" fill=\"#66cc99\" stroke=\"#555555\" stroke-width=\"0.21600000000000003\" opacity=\"0.6\" d=\"M 6.0,6.0 L 7.0,6.0 L 10.0,4.0 L 11.0,8.0 L 6.0,6.0 z\" /></g></g></svg>"
      ],
      "text/plain": [
       "<MULTIPOLYGON (((1 2, 5 3, 5 7, 1 9, 1 2)), ((6 6, 7 6, 10 4, 11 8, 6 6)))>"
      ]
     },
     "execution_count": 150,
     "metadata": {},
     "output_type": "execute_result"
    }
   ],
   "source": [
    "# collection of polygons \n",
    "from shapely.geometry import MultiPolygon\n",
    "polygons = MultiPolygon([p1,p2])\n",
    "polygons"
   ]
  },
  {
   "cell_type": "markdown",
   "id": "0bdf654a-6b3e-42fb-a1e0-c61ec74f20bd",
   "metadata": {},
   "source": [
    "## Applying geometrical methods with Shapely"
   ]
  },
  {
   "cell_type": "code",
   "execution_count": 153,
   "id": "37c24c8f-54ff-4300-909d-88cd42328261",
   "metadata": {},
   "outputs": [
    {
     "name": "stdout",
     "output_type": "stream",
     "text": [
      "22.0\n",
      "(1.0, 2.0, 5.0, 9.0)\n",
      "19.59524158061724\n",
      "Polygon\n"
     ]
    }
   ],
   "source": [
    "print(p1.area)       \n",
    "print(p1.bounds)       \n",
    "print(p1.length)       \n",
    "print(p1.geom_type)"
   ]
  },
  {
   "cell_type": "markdown",
   "id": "6a375994-da25-4f6d-b97f-eb9aa3a8271d",
   "metadata": {},
   "source": [
    "## Reading JSON geometries with shapely \n",
    "Although Shapely does not read or write data files, you can access geometries from outside of the library, for instance, by feeding it vector data written in json."
   ]
  },
  {
   "cell_type": "code",
   "execution_count": 157,
   "id": "d86bd6f4-e32a-41d6-a4e7-903038e9590c",
   "metadata": {},
   "outputs": [
    {
     "name": "stdout",
     "output_type": "stream",
     "text": [
      "{\"type\": \"Polygon\", \"coordinates\": [[[1.0, 1.0], [1.0, 3.0], [3.0, 3.0], [1.0, 1.0]]]}\n"
     ]
    },
    {
     "data": {
      "text/plain": [
       "2.0"
      ]
     },
     "execution_count": 157,
     "metadata": {},
     "output_type": "execute_result"
    }
   ],
   "source": [
    "import json \n",
    "from shapely.geometry import mapping, shape\n",
    "p = shape(json.loads('{\"type\":\"Polygon\", \"coordinates\":[[[1,1], [1,3 ], [3,3]]]}'))\n",
    "print(json.dumps(mapping(p)))\n",
    "p.area"
   ]
  },
  {
   "cell_type": "markdown",
   "id": "0255ecb3-db40-43e3-84cf-8310920ebdfd",
   "metadata": {},
   "source": [
    "## Reading Data with Fiona "
   ]
  },
  {
   "cell_type": "code",
   "execution_count": 163,
   "id": "a85d68cf-41bc-4b4b-aac2-c32db1038a2c",
   "metadata": {},
   "outputs": [
    {
     "name": "stderr",
     "output_type": "stream",
     "text": [
      "ERROR 1: PROJ: internal_proj_identify: /opt/anaconda3/share/proj/proj.db contains DATABASE.LAYOUT.VERSION.MINOR = 2 whereas a number >= 3 is expected. It comes from another PROJ installation.\n"
     ]
    },
    {
     "data": {
      "text/plain": [
       "KeysView(fiona.Feature(geometry=fiona.Geometry(coordinates=[[(-89.95765601272012, 47.286907253603175), ...]], type='Polygon'), id='0', properties=fiona.Properties(featurecla='Admin-1 scale rank', scalerank=2, adm1_code='USA-3514', diss_me=3514, iso_3166_2='US-MN', wikipedia='http://en.wikipedia.org/wiki/Minnesota', iso_a2='US', adm0_sr=1, name='Minnesota', name_alt='MN|Minn.', name_local=None, type='State', type_en='State', code_local='US27', code_hasc='US.MN', note=None, hasc_maybe=None, region='Midwest', region_cod=None, provnum_ne=0, gadm_level=1, check_me=20, datarank=1, abbrev='Minn.', postal='MN', area_sqkm=0, sameascity=-99, labelrank=0, name_len=9, mapcolor9=1, mapcolor13=1, fips='US27', fips_alt=None, woe_id=2347582, woe_label='Minnesota, US, United States', woe_name='Minnesota', latitude=46.0592, longitude=-93.364, sov_a3='US1', adm0_a3='USA', adm0_label=2, admin='United States of America', geonunit='United States of America', gu_a3='USA', gn_id=5037779, gn_name='Minnesota', gns_id=-1, gns_name=None, gn_level=1, gn_region=None, gn_a1_code='US.MN', region_sub='West North Central', sub_code=None, gns_level=-1, gns_lang=None, gns_adm1=None, gns_region=None, min_label=3.5, max_label=7.5, min_zoom=2, wikidataid='Q1527', name_ar='مينيسوتا', name_bn='মিনেসোটা', name_de='Minnesota', name_en='Minnesota', name_es='Minnesota', name_fr='Minnesota', name_el='Μινεσότα', name_hi='मिनेसोटा', name_hu='Minnesota', name_id='Minnesota', name_it='Minnesota', name_ja='ミネソタ州', name_ko='미네소타', name_nl='Minnesota', name_pl='Minnesota', name_pt='Minnesota', name_ru='Миннесота', name_sv='Minnesota', name_tr='Minnesota', name_vi='Minnesota', name_zh='明尼苏达州', ne_id=1159315297, name_he='מינסוטה', name_uk='Міннесота', name_ur='مینیسوٹا', name_fa='مینهسوتا', name_zht='明尼蘇達州', FCLASS_ISO=None, FCLASS_US=None, FCLASS_FR=None, FCLASS_RU=None, FCLASS_ES=None, FCLASS_CN=None, FCLASS_TW=None, FCLASS_IN=None, FCLASS_NP=None, FCLASS_PK=None, FCLASS_DE=None, FCLASS_GB=None, FCLASS_BR=None, FCLASS_IL=None, FCLASS_PS=None, FCLASS_SA=None, FCLASS_EG=None, FCLASS_MA=None, FCLASS_PT=None, FCLASS_AR=None, FCLASS_JP=None, FCLASS_KO=None, FCLASS_VN=None, FCLASS_TR=None, FCLASS_ID=None, FCLASS_PL=None, FCLASS_GR=None, FCLASS_IT=None, FCLASS_NL=None, FCLASS_SE=None, FCLASS_BD=None, FCLASS_UA=None, FCLASS_TLC=None)))"
      ]
     },
     "execution_count": 163,
     "metadata": {},
     "output_type": "execute_result"
    }
   ],
   "source": [
    "import fiona\n",
    "\n",
    "c = fiona.open(\"data/NE/110m_cultural/ne_110m_admin_1_states_provinces.shp\")\n",
    "rec = next(iter(c))\n",
    "rec.keys()"
   ]
  },
  {
   "cell_type": "code",
   "execution_count": 179,
   "id": "df51c4ed-257c-4d81-aed4-cb0313f2d6ba",
   "metadata": {},
   "outputs": [
    {
     "name": "stdout",
     "output_type": "stream",
     "text": [
      "fiona.Geometry(coordinates=[[(-89.95765601272012, 47.286907253603175), ...]], type='Polygon')\n"
     ]
    }
   ],
   "source": [
    "import pprint\n",
    "\n",
    "pprint.pprint(rec['id'])\n",
    "pprint.pprint(rec['properties'])\n",
    "pprint.pprint(rec['geometry'])\n",
    "\n",
    "\n"
   ]
  },
  {
   "cell_type": "code",
   "execution_count": 185,
   "id": "dffd3f40-53be-4554-a420-3375f248466c",
   "metadata": {},
   "outputs": [
    {
     "name": "stdout",
     "output_type": "stream",
     "text": [
      "51\n",
      "ESRI Shapefile\n",
      "GEOGCS[\"WGS 84\",DATUM[\"WGS_1984\",SPHEROID[\"WGS 84\",6378137,298.257223563,AUTHORITY[\"EPSG\",\"7030\"]],AUTHORITY[\"EPSG\",\"6326\"]],PRIMEM[\"Greenwich\",0],UNIT[\"Degree\",0.0174532925199433],AXIS[\"Longitude\",EAST],AXIS[\"Latitude\",NORTH]]\n"
     ]
    },
    {
     "name": "stderr",
     "output_type": "stream",
     "text": [
      "ERROR 1: PROJ: internal_proj_identify: /opt/anaconda3/share/proj/proj.db contains DATABASE.LAYOUT.VERSION.MINOR = 2 whereas a number >= 3 is expected. It comes from another PROJ installation.\n"
     ]
    }
   ],
   "source": [
    "print(len(c)) # prints total amount of features \n",
    "print(c.driver) # print driver name \n",
    "print(c.crs) # prints coordinate reference system of data"
   ]
  },
  {
   "cell_type": "code",
   "execution_count": null,
   "id": "d8de0d26-e77e-4753-8646-deab6e490cb9",
   "metadata": {},
   "outputs": [],
   "source": []
  },
  {
   "cell_type": "markdown",
   "id": "5bb0eed8-e3d6-4c4b-bb05-92a1d0133a12",
   "metadata": {},
   "source": [
    "## Accessing vector geometry in shapefiles using Shapely and Fiona \n",
    "Using Fiona we can open a shapefile and access attribute data, such as geometries. E.g Our Natural Earth Dataset contains a shapefile with all of the states in the US with vector geometries. "
   ]
  },
  {
   "cell_type": "code",
   "execution_count": 206,
   "id": "54b2737e-3c49-46f8-bd55-f4392a55783d",
   "metadata": {},
   "outputs": [
    {
     "name": "stdout",
     "output_type": "stream",
     "text": [
      "fiona.Feature(geometry=fiona.Geometry(coordinates=[[(-89.95765601272012, 47.286907253603175), ...]], type='Polygon'), id='0', properties=fiona.Properties(featurecla='Admin-1 scale rank', scalerank=2, adm1_code='USA-3514', diss_me=3514, iso_3166_2='US-MN', wikipedia='http://en.wikipedia.org/wiki/Minnesota', iso_a2='US', adm0_sr=1, name='Minnesota', name_alt='MN|Minn.', name_local=None, type='State', type_en='State', code_local='US27', code_hasc='US.MN', note=None, hasc_maybe=None, region='Midwest', region_cod=None, provnum_ne=0, gadm_level=1, check_me=20, datarank=1, abbrev='Minn.', postal='MN', area_sqkm=0, sameascity=-99, labelrank=0, name_len=9, mapcolor9=1, mapcolor13=1, fips='US27', fips_alt=None, woe_id=2347582, woe_label='Minnesota, US, United States', woe_name='Minnesota', latitude=46.0592, longitude=-93.364, sov_a3='US1', adm0_a3='USA', adm0_label=2, admin='United States of America', geonunit='United States of America', gu_a3='USA', gn_id=5037779, gn_name='Minnesota', gns_id=-1, gns_name=None, gn_level=1, gn_region=None, gn_a1_code='US.MN', region_sub='West North Central', sub_code=None, gns_level=-1, gns_lang=None, gns_adm1=None, gns_region=None, min_label=3.5, max_label=7.5, min_zoom=2, wikidataid='Q1527', name_ar='مينيسوتا', name_bn='মিনেসোটা', name_de='Minnesota', name_en='Minnesota', name_es='Minnesota', name_fr='Minnesota', name_el='Μινεσότα', name_hi='मिनेसोटा', name_hu='Minnesota', name_id='Minnesota', name_it='Minnesota', name_ja='ミネソタ州', name_ko='미네소타', name_nl='Minnesota', name_pl='Minnesota', name_pt='Minnesota', name_ru='Миннесота', name_sv='Minnesota', name_tr='Minnesota', name_vi='Minnesota', name_zh='明尼苏达州', ne_id=1159315297, name_he='מינסוטה', name_uk='Міннесота', name_ur='مینیسوٹا', name_fa='مینهسوتا', name_zht='明尼蘇達州', FCLASS_ISO=None, FCLASS_US=None, FCLASS_FR=None, FCLASS_RU=None, FCLASS_ES=None, FCLASS_CN=None, FCLASS_TW=None, FCLASS_IN=None, FCLASS_NP=None, FCLASS_PK=None, FCLASS_DE=None, FCLASS_GB=None, FCLASS_BR=None, FCLASS_IL=None, FCLASS_PS=None, FCLASS_SA=None, FCLASS_EG=None, FCLASS_MA=None, FCLASS_PT=None, FCLASS_AR=None, FCLASS_JP=None, FCLASS_KO=None, FCLASS_VN=None, FCLASS_TR=None, FCLASS_ID=None, FCLASS_PL=None, FCLASS_GR=None, FCLASS_IT=None, FCLASS_NL=None, FCLASS_SE=None, FCLASS_BD=None, FCLASS_UA=None, FCLASS_TLC=None))\n"
     ]
    }
   ],
   "source": [
    "import pprint, fiona\n",
    "\n",
    "with fiona.open(\"data/NE/110m_cultural/ne_110m_admin_1_states_provinces.shp\") as src:\n",
    "    pprint.pprint(src[0])"
   ]
  },
  {
   "cell_type": "markdown",
   "id": "ba9a1d6b-8b05-4d3a-9c7e-6a86c9c2020b",
   "metadata": {},
   "source": [
    "We can use the shape method and pass in all of the coordinates from Minnesota"
   ]
  },
  {
   "cell_type": "code",
   "execution_count": 208,
   "id": "daa0d972-25ee-45d9-9420-92cd24268b18",
   "metadata": {},
   "outputs": [
    {
     "data": {
      "image/svg+xml": [
       "<svg xmlns=\"http://www.w3.org/2000/svg\" xmlns:xlink=\"http://www.w3.org/1999/xlink\" width=\"100.0\" height=\"100.0\" viewBox=\"-97.53047112 44.44041788 7.86407724 5.23520224\" preserveAspectRatio=\"xMinYMin meet\"><g transform=\"matrix(1,0,0,-1,0,94.116038)\"><path fill-rule=\"evenodd\" fill=\"#66cc99\" stroke=\"#555555\" stroke-width=\"0.1572815448\" opacity=\"0.6\" d=\"M -97.239209,49.384358 L -95.152984,49.384358 L -95.152984,48.540969 L -94.81758,48.202054 L -92.888114,48.302917 L -92.348614,47.722114 L -91.202651,47.368601 L -90.83029,47.30284 L -89.957656,47.286907 L -93.356646,44.783156 L -95.153404,44.73168 L -96.453138,45.293466 L -96.85623,45.932139 L -97.239209,49.384358 z\" /></g></svg>"
      ],
      "text/plain": [
       "<POLYGON ((-97.239 49.384, -95.153 49.384, -95.153 48.541, -94.818 48.202, -...>"
      ]
     },
     "execution_count": 208,
     "metadata": {},
     "output_type": "execute_result"
    }
   ],
   "source": [
    "from shapely.geometry import shape\n",
    "\n",
    "minnesota = {\n",
    "    'type': 'Polygon',\n",
    "    'coordinates': [[\n",
    "        (-97.239209, 49.384358),  # Northwest corner (Minnesota-Manitoba border)\n",
    "        (-95.152984, 49.384358),  # Northern border along Canada\n",
    "        (-95.152984, 48.540969),  # Northern border along Lake of the Woods\n",
    "        (-94.81758, 48.202054),   # Northern border down to Rainy Lake\n",
    "        (-92.888114, 48.302917),  # Northern edge near Rainy River\n",
    "        (-92.348614, 47.722114),  # Northern central part near Boundary Waters\n",
    "        (-91.202651, 47.368601),  # Northeast edge along Lake Superior\n",
    "        (-90.83029, 47.30284),    # Eastern edge near Lake Superior\n",
    "        (-89.957656, 47.286907),  # Eastern tip along Lake Superior\n",
    "        (-93.356646, 44.783156),  # Southern central part near Minneapolis\n",
    "        (-95.153404, 44.73168),   # Western central part\n",
    "        (-96.453138, 45.293466),  # Southwestern corner\n",
    "        (-96.85623, 45.932139),   # Northwestern corner\n",
    "        (-97.239209, 49.384358)   # Closing the polygon back at Northwest\n",
    "    ]]\n",
    "}\n",
    "\n",
    "\n",
    "geom = shape(minnesota)\n",
    "geom"
   ]
  },
  {
   "cell_type": "markdown",
   "id": "66870a46-67e6-4efc-97ac-06319169f1d7",
   "metadata": {},
   "source": [
    "# Geospatial Analysis with - GeoPandas "
   ]
  },
  {
   "cell_type": "markdown",
   "id": "dae8579f-ba7e-4d36-ba2b-8f14190e44da",
   "metadata": {},
   "source": [
    "## Selecting and Plotting geometry data with GeoPandas and Matplotlib"
   ]
  },
  {
   "cell_type": "code",
   "execution_count": 215,
   "id": "12fe29c1-f0a2-4f76-96c0-79e17ad8e24a",
   "metadata": {},
   "outputs": [
    {
     "data": {
      "text/html": [
       "<div>\n",
       "<style scoped>\n",
       "    .dataframe tbody tr th:only-of-type {\n",
       "        vertical-align: middle;\n",
       "    }\n",
       "\n",
       "    .dataframe tbody tr th {\n",
       "        vertical-align: top;\n",
       "    }\n",
       "\n",
       "    .dataframe thead th {\n",
       "        text-align: right;\n",
       "    }\n",
       "</style>\n",
       "<table border=\"1\" class=\"dataframe\">\n",
       "  <thead>\n",
       "    <tr style=\"text-align: right;\">\n",
       "      <th></th>\n",
       "      <th>featurecla</th>\n",
       "      <th>scalerank</th>\n",
       "      <th>adm1_code</th>\n",
       "      <th>diss_me</th>\n",
       "      <th>iso_3166_2</th>\n",
       "      <th>wikipedia</th>\n",
       "      <th>iso_a2</th>\n",
       "      <th>adm0_sr</th>\n",
       "      <th>name</th>\n",
       "      <th>name_alt</th>\n",
       "      <th>...</th>\n",
       "      <th>FCLASS_ID</th>\n",
       "      <th>FCLASS_PL</th>\n",
       "      <th>FCLASS_GR</th>\n",
       "      <th>FCLASS_IT</th>\n",
       "      <th>FCLASS_NL</th>\n",
       "      <th>FCLASS_SE</th>\n",
       "      <th>FCLASS_BD</th>\n",
       "      <th>FCLASS_UA</th>\n",
       "      <th>FCLASS_TLC</th>\n",
       "      <th>geometry</th>\n",
       "    </tr>\n",
       "  </thead>\n",
       "  <tbody>\n",
       "    <tr>\n",
       "      <th>0</th>\n",
       "      <td>Admin-1 scale rank</td>\n",
       "      <td>2</td>\n",
       "      <td>USA-3514</td>\n",
       "      <td>3514</td>\n",
       "      <td>US-MN</td>\n",
       "      <td>http://en.wikipedia.org/wiki/Minnesota</td>\n",
       "      <td>US</td>\n",
       "      <td>1</td>\n",
       "      <td>Minnesota</td>\n",
       "      <td>MN|Minn.</td>\n",
       "      <td>...</td>\n",
       "      <td>None</td>\n",
       "      <td>None</td>\n",
       "      <td>None</td>\n",
       "      <td>None</td>\n",
       "      <td>None</td>\n",
       "      <td>None</td>\n",
       "      <td>None</td>\n",
       "      <td>None</td>\n",
       "      <td>None</td>\n",
       "      <td>POLYGON ((-89.95766 47.28691, -90.13175 47.292...</td>\n",
       "    </tr>\n",
       "    <tr>\n",
       "      <th>1</th>\n",
       "      <td>Admin-1 scale rank</td>\n",
       "      <td>2</td>\n",
       "      <td>USA-3515</td>\n",
       "      <td>3515</td>\n",
       "      <td>US-MT</td>\n",
       "      <td>http://en.wikipedia.org/wiki/Montana</td>\n",
       "      <td>US</td>\n",
       "      <td>1</td>\n",
       "      <td>Montana</td>\n",
       "      <td>MT|Mont.</td>\n",
       "      <td>...</td>\n",
       "      <td>None</td>\n",
       "      <td>None</td>\n",
       "      <td>None</td>\n",
       "      <td>None</td>\n",
       "      <td>None</td>\n",
       "      <td>None</td>\n",
       "      <td>None</td>\n",
       "      <td>None</td>\n",
       "      <td>None</td>\n",
       "      <td>POLYGON ((-116.04823 49.00037, -113.0595 49.00...</td>\n",
       "    </tr>\n",
       "    <tr>\n",
       "      <th>2</th>\n",
       "      <td>Admin-1 scale rank</td>\n",
       "      <td>2</td>\n",
       "      <td>USA-3516</td>\n",
       "      <td>3516</td>\n",
       "      <td>US-ND</td>\n",
       "      <td>http://en.wikipedia.org/wiki/North_Dakota</td>\n",
       "      <td>US</td>\n",
       "      <td>1</td>\n",
       "      <td>North Dakota</td>\n",
       "      <td>ND|N.D.</td>\n",
       "      <td>...</td>\n",
       "      <td>None</td>\n",
       "      <td>None</td>\n",
       "      <td>None</td>\n",
       "      <td>None</td>\n",
       "      <td>None</td>\n",
       "      <td>None</td>\n",
       "      <td>None</td>\n",
       "      <td>None</td>\n",
       "      <td>None</td>\n",
       "      <td>POLYGON ((-97.22894 49.00089, -97.21414 48.902...</td>\n",
       "    </tr>\n",
       "    <tr>\n",
       "      <th>3</th>\n",
       "      <td>Admin-1 scale rank</td>\n",
       "      <td>2</td>\n",
       "      <td>USA-3517</td>\n",
       "      <td>3517</td>\n",
       "      <td>US-HI</td>\n",
       "      <td>http://en.wikipedia.org/wiki/Hawaii</td>\n",
       "      <td>US</td>\n",
       "      <td>8</td>\n",
       "      <td>Hawaii</td>\n",
       "      <td>HI|Hawaii</td>\n",
       "      <td>...</td>\n",
       "      <td>None</td>\n",
       "      <td>None</td>\n",
       "      <td>None</td>\n",
       "      <td>None</td>\n",
       "      <td>None</td>\n",
       "      <td>None</td>\n",
       "      <td>None</td>\n",
       "      <td>None</td>\n",
       "      <td>None</td>\n",
       "      <td>MULTIPOLYGON (((-155.93665 19.05939, -155.9080...</td>\n",
       "    </tr>\n",
       "    <tr>\n",
       "      <th>4</th>\n",
       "      <td>Admin-1 scale rank</td>\n",
       "      <td>2</td>\n",
       "      <td>USA-3518</td>\n",
       "      <td>3518</td>\n",
       "      <td>US-ID</td>\n",
       "      <td>http://en.wikipedia.org/wiki/Idaho</td>\n",
       "      <td>US</td>\n",
       "      <td>1</td>\n",
       "      <td>Idaho</td>\n",
       "      <td>ID|Idaho</td>\n",
       "      <td>...</td>\n",
       "      <td>None</td>\n",
       "      <td>None</td>\n",
       "      <td>None</td>\n",
       "      <td>None</td>\n",
       "      <td>None</td>\n",
       "      <td>None</td>\n",
       "      <td>None</td>\n",
       "      <td>None</td>\n",
       "      <td>None</td>\n",
       "      <td>POLYGON ((-116.04823 49.00037, -115.9678 47.95...</td>\n",
       "    </tr>\n",
       "  </tbody>\n",
       "</table>\n",
       "<p>5 rows × 122 columns</p>\n",
       "</div>"
      ],
      "text/plain": [
       "           featurecla  scalerank adm1_code  diss_me iso_3166_2  \\\n",
       "0  Admin-1 scale rank          2  USA-3514     3514      US-MN   \n",
       "1  Admin-1 scale rank          2  USA-3515     3515      US-MT   \n",
       "2  Admin-1 scale rank          2  USA-3516     3516      US-ND   \n",
       "3  Admin-1 scale rank          2  USA-3517     3517      US-HI   \n",
       "4  Admin-1 scale rank          2  USA-3518     3518      US-ID   \n",
       "\n",
       "                                   wikipedia iso_a2  adm0_sr          name  \\\n",
       "0     http://en.wikipedia.org/wiki/Minnesota     US        1     Minnesota   \n",
       "1       http://en.wikipedia.org/wiki/Montana     US        1       Montana   \n",
       "2  http://en.wikipedia.org/wiki/North_Dakota     US        1  North Dakota   \n",
       "3        http://en.wikipedia.org/wiki/Hawaii     US        8        Hawaii   \n",
       "4         http://en.wikipedia.org/wiki/Idaho     US        1         Idaho   \n",
       "\n",
       "    name_alt  ... FCLASS_ID FCLASS_PL FCLASS_GR FCLASS_IT FCLASS_NL FCLASS_SE  \\\n",
       "0   MN|Minn.  ...      None      None      None      None      None      None   \n",
       "1   MT|Mont.  ...      None      None      None      None      None      None   \n",
       "2    ND|N.D.  ...      None      None      None      None      None      None   \n",
       "3  HI|Hawaii  ...      None      None      None      None      None      None   \n",
       "4   ID|Idaho  ...      None      None      None      None      None      None   \n",
       "\n",
       "  FCLASS_BD FCLASS_UA FCLASS_TLC  \\\n",
       "0      None      None       None   \n",
       "1      None      None       None   \n",
       "2      None      None       None   \n",
       "3      None      None       None   \n",
       "4      None      None       None   \n",
       "\n",
       "                                            geometry  \n",
       "0  POLYGON ((-89.95766 47.28691, -90.13175 47.292...  \n",
       "1  POLYGON ((-116.04823 49.00037, -113.0595 49.00...  \n",
       "2  POLYGON ((-97.22894 49.00089, -97.21414 48.902...  \n",
       "3  MULTIPOLYGON (((-155.93665 19.05939, -155.9080...  \n",
       "4  POLYGON ((-116.04823 49.00037, -115.9678 47.95...  \n",
       "\n",
       "[5 rows x 122 columns]"
      ]
     },
     "execution_count": 215,
     "metadata": {},
     "output_type": "execute_result"
    }
   ],
   "source": [
    "import geopandas as gpd \n",
    "%matplotlib inline \n",
    "df = gpd.read_file(\"data/NE/110m_cultural/ne_110m_admin_1_states_provinces.shp\")\n",
    "df.head()"
   ]
  },
  {
   "cell_type": "code",
   "execution_count": 217,
   "id": "7ab161d1-1839-44c8-9b51-e8637edf4f45",
   "metadata": {},
   "outputs": [
    {
     "data": {
      "text/plain": [
       "geopandas.geodataframe.GeoDataFrame"
      ]
     },
     "execution_count": 217,
     "metadata": {},
     "output_type": "execute_result"
    }
   ],
   "source": [
    "type(df)"
   ]
  },
  {
   "cell_type": "code",
   "execution_count": 221,
   "id": "caf74005-08a8-48fa-b2a3-3f1212a20e47",
   "metadata": {},
   "outputs": [
    {
     "data": {
      "text/plain": [
       "(51, 122)"
      ]
     },
     "execution_count": 221,
     "metadata": {},
     "output_type": "execute_result"
    }
   ],
   "source": [
    "df.shape"
   ]
  },
  {
   "cell_type": "code",
   "execution_count": 223,
   "id": "08a48c2c-9bf9-4814-be9d-6735cdab3283",
   "metadata": {},
   "outputs": [
    {
     "data": {
      "text/plain": [
       "Index(['featurecla', 'scalerank', 'adm1_code', 'diss_me', 'iso_3166_2',\n",
       "       'wikipedia', 'iso_a2', 'adm0_sr', 'name', 'name_alt',\n",
       "       ...\n",
       "       'FCLASS_ID', 'FCLASS_PL', 'FCLASS_GR', 'FCLASS_IT', 'FCLASS_NL',\n",
       "       'FCLASS_SE', 'FCLASS_BD', 'FCLASS_UA', 'FCLASS_TLC', 'geometry'],\n",
       "      dtype='object', length=122)"
      ]
     },
     "execution_count": 223,
     "metadata": {},
     "output_type": "execute_result"
    }
   ],
   "source": [
    "df.columns"
   ]
  },
  {
   "cell_type": "markdown",
   "id": "d43b737a-7715-43c6-9653-70a4f60ab17c",
   "metadata": {},
   "source": [
    "Accessing separate rows of our geo data frome using pandas .loc and .iloc"
   ]
  },
  {
   "cell_type": "code",
   "execution_count": 226,
   "id": "205a0228-dba3-4d85-9901-bc312d6e83e5",
   "metadata": {},
   "outputs": [
    {
     "data": {
      "text/plain": [
       "featurecla                                   Admin-1 scale rank\n",
       "scalerank                                                     2\n",
       "adm1_code                                              USA-3514\n",
       "diss_me                                                    3514\n",
       "iso_3166_2                                                US-MN\n",
       "                                    ...                        \n",
       "FCLASS_SE                                                  None\n",
       "FCLASS_BD                                                  None\n",
       "FCLASS_UA                                                  None\n",
       "FCLASS_TLC                                                 None\n",
       "geometry      POLYGON ((-89.95765601272012 47.28690725360317...\n",
       "Name: 0, Length: 122, dtype: object"
      ]
     },
     "execution_count": 226,
     "metadata": {},
     "output_type": "execute_result"
    }
   ],
   "source": [
    "df.loc[0]"
   ]
  },
  {
   "cell_type": "code",
   "execution_count": 228,
   "id": "088b4c35-bcc7-4b7a-ae37-dbcc982ac0ed",
   "metadata": {},
   "outputs": [
    {
     "data": {
      "text/plain": [
       "0                Minnesota\n",
       "1                  Montana\n",
       "2             North Dakota\n",
       "3                   Hawaii\n",
       "4                    Idaho\n",
       "5               Washington\n",
       "6                  Arizona\n",
       "7               California\n",
       "8                 Colorado\n",
       "9                   Nevada\n",
       "10              New Mexico\n",
       "11                  Oregon\n",
       "12                    Utah\n",
       "13                 Wyoming\n",
       "14                Arkansas\n",
       "15                    Iowa\n",
       "16                  Kansas\n",
       "17                Missouri\n",
       "18                Nebraska\n",
       "19                Oklahoma\n",
       "20            South Dakota\n",
       "21               Louisiana\n",
       "22                   Texas\n",
       "23             Connecticut\n",
       "24           Massachusetts\n",
       "25           New Hampshire\n",
       "26            Rhode Island\n",
       "27                 Vermont\n",
       "28                 Alabama\n",
       "29                 Florida\n",
       "30                 Georgia\n",
       "31             Mississippi\n",
       "32          South Carolina\n",
       "33                Illinois\n",
       "34                 Indiana\n",
       "35                Kentucky\n",
       "36          North Carolina\n",
       "37                    Ohio\n",
       "38               Tennessee\n",
       "39                Virginia\n",
       "40               Wisconsin\n",
       "41           West Virginia\n",
       "42                Delaware\n",
       "43    District of Columbia\n",
       "44                Maryland\n",
       "45              New Jersey\n",
       "46                New York\n",
       "47            Pennsylvania\n",
       "48                   Maine\n",
       "49                Michigan\n",
       "50                  Alaska\n",
       "Name: name, dtype: object"
      ]
     },
     "execution_count": 228,
     "metadata": {},
     "output_type": "execute_result"
    }
   ],
   "source": [
    "df['name']"
   ]
  },
  {
   "cell_type": "code",
   "execution_count": 238,
   "id": "8918fa3a-bef9-424b-8aed-c45df8f07cd7",
   "metadata": {},
   "outputs": [
    {
     "data": {
      "text/html": [
       "<div>\n",
       "<style scoped>\n",
       "    .dataframe tbody tr th:only-of-type {\n",
       "        vertical-align: middle;\n",
       "    }\n",
       "\n",
       "    .dataframe tbody tr th {\n",
       "        vertical-align: top;\n",
       "    }\n",
       "\n",
       "    .dataframe thead th {\n",
       "        text-align: right;\n",
       "    }\n",
       "</style>\n",
       "<table border=\"1\" class=\"dataframe\">\n",
       "  <thead>\n",
       "    <tr style=\"text-align: right;\">\n",
       "      <th></th>\n",
       "      <th>featurecla</th>\n",
       "      <th>scalerank</th>\n",
       "      <th>adm1_code</th>\n",
       "      <th>diss_me</th>\n",
       "      <th>iso_3166_2</th>\n",
       "      <th>wikipedia</th>\n",
       "      <th>iso_a2</th>\n",
       "      <th>adm0_sr</th>\n",
       "      <th>name</th>\n",
       "      <th>name_alt</th>\n",
       "      <th>...</th>\n",
       "      <th>FCLASS_ID</th>\n",
       "      <th>FCLASS_PL</th>\n",
       "      <th>FCLASS_GR</th>\n",
       "      <th>FCLASS_IT</th>\n",
       "      <th>FCLASS_NL</th>\n",
       "      <th>FCLASS_SE</th>\n",
       "      <th>FCLASS_BD</th>\n",
       "      <th>FCLASS_UA</th>\n",
       "      <th>FCLASS_TLC</th>\n",
       "      <th>geometry</th>\n",
       "    </tr>\n",
       "  </thead>\n",
       "  <tbody>\n",
       "    <tr>\n",
       "      <th>33</th>\n",
       "      <td>Admin-1 scale rank</td>\n",
       "      <td>2</td>\n",
       "      <td>USA-3546</td>\n",
       "      <td>3546</td>\n",
       "      <td>US-IL</td>\n",
       "      <td>http://en.wikipedia.org/wiki/Illinois</td>\n",
       "      <td>US</td>\n",
       "      <td>1</td>\n",
       "      <td>Illinois</td>\n",
       "      <td>IL|Ill.</td>\n",
       "      <td>...</td>\n",
       "      <td>None</td>\n",
       "      <td>None</td>\n",
       "      <td>None</td>\n",
       "      <td>None</td>\n",
       "      <td>None</td>\n",
       "      <td>None</td>\n",
       "      <td>None</td>\n",
       "      <td>None</td>\n",
       "      <td>None</td>\n",
       "      <td>POLYGON ((-91.43033 40.3686, -91.41023 40.5511...</td>\n",
       "    </tr>\n",
       "  </tbody>\n",
       "</table>\n",
       "<p>1 rows × 122 columns</p>\n",
       "</div>"
      ],
      "text/plain": [
       "            featurecla  scalerank adm1_code  diss_me iso_3166_2  \\\n",
       "33  Admin-1 scale rank          2  USA-3546     3546      US-IL   \n",
       "\n",
       "                                wikipedia iso_a2  adm0_sr      name name_alt  \\\n",
       "33  http://en.wikipedia.org/wiki/Illinois     US        1  Illinois  IL|Ill.   \n",
       "\n",
       "    ... FCLASS_ID FCLASS_PL FCLASS_GR FCLASS_IT FCLASS_NL FCLASS_SE FCLASS_BD  \\\n",
       "33  ...      None      None      None      None      None      None      None   \n",
       "\n",
       "   FCLASS_UA FCLASS_TLC                                           geometry  \n",
       "33      None       None  POLYGON ((-91.43033 40.3686, -91.41023 40.5511...  \n",
       "\n",
       "[1 rows x 122 columns]"
      ]
     },
     "execution_count": 238,
     "metadata": {},
     "output_type": "execute_result"
    }
   ],
   "source": [
    "illinois = df.loc[df['name'] == \"Illinois\"]\n",
    "illinois"
   ]
  },
  {
   "cell_type": "code",
   "execution_count": 240,
   "id": "fc4b0829-0a12-499c-addf-44c6fcf4e43c",
   "metadata": {},
   "outputs": [
    {
     "data": {
      "text/plain": [
       "<Axes: >"
      ]
     },
     "execution_count": 240,
     "metadata": {},
     "output_type": "execute_result"
    },
    {
     "data": {
      "image/png": "[encoded data removed]",
      "text/plain": [
       "<Figure size 700x700 with 1 Axes>"
      ]
     },
     "metadata": {},
     "output_type": "display_data"
    }
   ],
   "source": [
    "illinois.plot(figsize=(7,7))"
   ]
  },
  {
   "cell_type": "markdown",
   "id": "107099e5-ea26-429a-a036-54ad94dfdf6c",
   "metadata": {},
   "source": [
    "You can plot multiple items using the .iloc function and pass it a list of row numbers;"
   ]
  },
  {
   "cell_type": "code",
   "execution_count": 260,
   "id": "19430418-f5a3-4cd9-96b7-d0639d6b62ea",
   "metadata": {},
   "outputs": [
    {
     "data": {
      "text/plain": [
       "<Axes: >"
      ]
     },
     "execution_count": 260,
     "metadata": {},
     "output_type": "execute_result"
    },
    {
     "data": {
      "image/png": "[encoded data removed]",
      "text/plain": [
       "<Figure size 700x700 with 1 Axes>"
      ]
     },
     "metadata": {},
     "output_type": "display_data"
    }
   ],
   "source": [
    "multipl = df.iloc[[5,7,9,11]]\n",
    "multipl.plot(cmap=\"Set1\", figsize=(7,7))"
   ]
  },
  {
   "cell_type": "markdown",
   "id": "6101ef74-2fe9-463c-92ce-0e6ad8afd1ef",
   "metadata": {},
   "source": [
    "The same results can be obtained using the .cx method on the GeoDataFrame, passing in values for a bounding box"
   ]
  },
  {
   "cell_type": "code",
   "execution_count": 269,
   "id": "6e3723d9-71a3-451c-8f57-d738d60e509c",
   "metadata": {},
   "outputs": [
    {
     "data": {
      "text/plain": [
       "<Axes: >"
      ]
     },
     "execution_count": 269,
     "metadata": {},
     "output_type": "execute_result"
    },
    {
     "data": {
      "image/png": "[encoded data removed]",
      "text/plain": [
       "<Figure size 700x700 with 1 Axes>"
      ]
     },
     "metadata": {},
     "output_type": "display_data"
    }
   ],
   "source": [
    "exp = df.cx[-124:-118, 30:50]\n",
    "exp.plot(cmap=\"Set1\", figsize=(7, 7))"
   ]
  },
  {
   "cell_type": "markdown",
   "id": "9f66e583-4bbf-4d14-8ad9-a8da386c6f9e",
   "metadata": {},
   "source": [
    "## Mapping wildfire data with GeoPandas"
   ]
  },
  {
   "cell_type": "code",
   "execution_count": 272,
   "id": "3596eece-fb01-47b1-8f49-85f681e85412",
   "metadata": {},
   "outputs": [
    {
     "data": {
      "text/html": [
       "<div>\n",
       "<style scoped>\n",
       "    .dataframe tbody tr th:only-of-type {\n",
       "        vertical-align: middle;\n",
       "    }\n",
       "\n",
       "    .dataframe tbody tr th {\n",
       "        vertical-align: top;\n",
       "    }\n",
       "\n",
       "    .dataframe thead th {\n",
       "        text-align: right;\n",
       "    }\n",
       "</style>\n",
       "<table border=\"1\" class=\"dataframe\">\n",
       "  <thead>\n",
       "    <tr style=\"text-align: right;\">\n",
       "      <th></th>\n",
       "      <th>featurecla</th>\n",
       "      <th>scalerank</th>\n",
       "      <th>adm1_code</th>\n",
       "      <th>diss_me</th>\n",
       "      <th>iso_3166_2</th>\n",
       "      <th>wikipedia</th>\n",
       "      <th>iso_a2</th>\n",
       "      <th>adm0_sr</th>\n",
       "      <th>name</th>\n",
       "      <th>name_alt</th>\n",
       "      <th>...</th>\n",
       "      <th>FCLASS_ID</th>\n",
       "      <th>FCLASS_PL</th>\n",
       "      <th>FCLASS_GR</th>\n",
       "      <th>FCLASS_IT</th>\n",
       "      <th>FCLASS_NL</th>\n",
       "      <th>FCLASS_SE</th>\n",
       "      <th>FCLASS_BD</th>\n",
       "      <th>FCLASS_UA</th>\n",
       "      <th>FCLASS_TLC</th>\n",
       "      <th>geometry</th>\n",
       "    </tr>\n",
       "  </thead>\n",
       "  <tbody>\n",
       "    <tr>\n",
       "      <th>0</th>\n",
       "      <td>Admin-1 scale rank</td>\n",
       "      <td>2</td>\n",
       "      <td>USA-3514</td>\n",
       "      <td>3514</td>\n",
       "      <td>US-MN</td>\n",
       "      <td>http://en.wikipedia.org/wiki/Minnesota</td>\n",
       "      <td>US</td>\n",
       "      <td>1</td>\n",
       "      <td>Minnesota</td>\n",
       "      <td>MN|Minn.</td>\n",
       "      <td>...</td>\n",
       "      <td>None</td>\n",
       "      <td>None</td>\n",
       "      <td>None</td>\n",
       "      <td>None</td>\n",
       "      <td>None</td>\n",
       "      <td>None</td>\n",
       "      <td>None</td>\n",
       "      <td>None</td>\n",
       "      <td>None</td>\n",
       "      <td>POLYGON ((-89.95766 47.28691, -90.13175 47.292...</td>\n",
       "    </tr>\n",
       "    <tr>\n",
       "      <th>1</th>\n",
       "      <td>Admin-1 scale rank</td>\n",
       "      <td>2</td>\n",
       "      <td>USA-3515</td>\n",
       "      <td>3515</td>\n",
       "      <td>US-MT</td>\n",
       "      <td>http://en.wikipedia.org/wiki/Montana</td>\n",
       "      <td>US</td>\n",
       "      <td>1</td>\n",
       "      <td>Montana</td>\n",
       "      <td>MT|Mont.</td>\n",
       "      <td>...</td>\n",
       "      <td>None</td>\n",
       "      <td>None</td>\n",
       "      <td>None</td>\n",
       "      <td>None</td>\n",
       "      <td>None</td>\n",
       "      <td>None</td>\n",
       "      <td>None</td>\n",
       "      <td>None</td>\n",
       "      <td>None</td>\n",
       "      <td>POLYGON ((-116.04823 49.00037, -113.0595 49.00...</td>\n",
       "    </tr>\n",
       "    <tr>\n",
       "      <th>2</th>\n",
       "      <td>Admin-1 scale rank</td>\n",
       "      <td>2</td>\n",
       "      <td>USA-3516</td>\n",
       "      <td>3516</td>\n",
       "      <td>US-ND</td>\n",
       "      <td>http://en.wikipedia.org/wiki/North_Dakota</td>\n",
       "      <td>US</td>\n",
       "      <td>1</td>\n",
       "      <td>North Dakota</td>\n",
       "      <td>ND|N.D.</td>\n",
       "      <td>...</td>\n",
       "      <td>None</td>\n",
       "      <td>None</td>\n",
       "      <td>None</td>\n",
       "      <td>None</td>\n",
       "      <td>None</td>\n",
       "      <td>None</td>\n",
       "      <td>None</td>\n",
       "      <td>None</td>\n",
       "      <td>None</td>\n",
       "      <td>POLYGON ((-97.22894 49.00089, -97.21414 48.902...</td>\n",
       "    </tr>\n",
       "    <tr>\n",
       "      <th>3</th>\n",
       "      <td>Admin-1 scale rank</td>\n",
       "      <td>2</td>\n",
       "      <td>USA-3517</td>\n",
       "      <td>3517</td>\n",
       "      <td>US-HI</td>\n",
       "      <td>http://en.wikipedia.org/wiki/Hawaii</td>\n",
       "      <td>US</td>\n",
       "      <td>8</td>\n",
       "      <td>Hawaii</td>\n",
       "      <td>HI|Hawaii</td>\n",
       "      <td>...</td>\n",
       "      <td>None</td>\n",
       "      <td>None</td>\n",
       "      <td>None</td>\n",
       "      <td>None</td>\n",
       "      <td>None</td>\n",
       "      <td>None</td>\n",
       "      <td>None</td>\n",
       "      <td>None</td>\n",
       "      <td>None</td>\n",
       "      <td>MULTIPOLYGON (((-155.93665 19.05939, -155.9080...</td>\n",
       "    </tr>\n",
       "    <tr>\n",
       "      <th>4</th>\n",
       "      <td>Admin-1 scale rank</td>\n",
       "      <td>2</td>\n",
       "      <td>USA-3518</td>\n",
       "      <td>3518</td>\n",
       "      <td>US-ID</td>\n",
       "      <td>http://en.wikipedia.org/wiki/Idaho</td>\n",
       "      <td>US</td>\n",
       "      <td>1</td>\n",
       "      <td>Idaho</td>\n",
       "      <td>ID|Idaho</td>\n",
       "      <td>...</td>\n",
       "      <td>None</td>\n",
       "      <td>None</td>\n",
       "      <td>None</td>\n",
       "      <td>None</td>\n",
       "      <td>None</td>\n",
       "      <td>None</td>\n",
       "      <td>None</td>\n",
       "      <td>None</td>\n",
       "      <td>None</td>\n",
       "      <td>POLYGON ((-116.04823 49.00037, -115.9678 47.95...</td>\n",
       "    </tr>\n",
       "  </tbody>\n",
       "</table>\n",
       "<p>5 rows × 122 columns</p>\n",
       "</div>"
      ],
      "text/plain": [
       "           featurecla  scalerank adm1_code  diss_me iso_3166_2  \\\n",
       "0  Admin-1 scale rank          2  USA-3514     3514      US-MN   \n",
       "1  Admin-1 scale rank          2  USA-3515     3515      US-MT   \n",
       "2  Admin-1 scale rank          2  USA-3516     3516      US-ND   \n",
       "3  Admin-1 scale rank          2  USA-3517     3517      US-HI   \n",
       "4  Admin-1 scale rank          2  USA-3518     3518      US-ID   \n",
       "\n",
       "                                   wikipedia iso_a2  adm0_sr          name  \\\n",
       "0     http://en.wikipedia.org/wiki/Minnesota     US        1     Minnesota   \n",
       "1       http://en.wikipedia.org/wiki/Montana     US        1       Montana   \n",
       "2  http://en.wikipedia.org/wiki/North_Dakota     US        1  North Dakota   \n",
       "3        http://en.wikipedia.org/wiki/Hawaii     US        8        Hawaii   \n",
       "4         http://en.wikipedia.org/wiki/Idaho     US        1         Idaho   \n",
       "\n",
       "    name_alt  ... FCLASS_ID FCLASS_PL FCLASS_GR FCLASS_IT FCLASS_NL FCLASS_SE  \\\n",
       "0   MN|Minn.  ...      None      None      None      None      None      None   \n",
       "1   MT|Mont.  ...      None      None      None      None      None      None   \n",
       "2    ND|N.D.  ...      None      None      None      None      None      None   \n",
       "3  HI|Hawaii  ...      None      None      None      None      None      None   \n",
       "4   ID|Idaho  ...      None      None      None      None      None      None   \n",
       "\n",
       "  FCLASS_BD FCLASS_UA FCLASS_TLC  \\\n",
       "0      None      None       None   \n",
       "1      None      None       None   \n",
       "2      None      None       None   \n",
       "3      None      None       None   \n",
       "4      None      None       None   \n",
       "\n",
       "                                            geometry  \n",
       "0  POLYGON ((-89.95766 47.28691, -90.13175 47.292...  \n",
       "1  POLYGON ((-116.04823 49.00037, -113.0595 49.00...  \n",
       "2  POLYGON ((-97.22894 49.00089, -97.21414 48.902...  \n",
       "3  MULTIPOLYGON (((-155.93665 19.05939, -155.9080...  \n",
       "4  POLYGON ((-116.04823 49.00037, -115.9678 47.95...  \n",
       "\n",
       "[5 rows x 122 columns]"
      ]
     },
     "execution_count": 272,
     "metadata": {},
     "output_type": "execute_result"
    }
   ],
   "source": [
    "import geopandas as gpd \n",
    "states = gpd.read_file(\"data/NE/110m_cultural/ne_110m_admin_1_states_provinces.shp\")\n",
    "states.head()"
   ]
  },
  {
   "cell_type": "code",
   "execution_count": 274,
   "id": "4b14e763-b01d-4c21-9c7d-b7efa45b5d88",
   "metadata": {},
   "outputs": [
    {
     "data": {
      "text/plain": [
       "<Axes: >"
      ]
     },
     "execution_count": 274,
     "metadata": {},
     "output_type": "execute_result"
    },
    {
     "data": {
      "image/png": "[encoded data removed]",
      "text/plain": [
       "<Figure size 1000x1000 with 1 Axes>"
      ]
     },
     "metadata": {},
     "output_type": "display_data"
    }
   ],
   "source": [
    "states.plot(figsize=(10,10))"
   ]
  },
  {
   "cell_type": "markdown",
   "id": "e7318efb-39b8-4357-b096-9c4eeee42a2e",
   "metadata": {},
   "source": [
    "The same procedure is repeated for our wildfire data."
   ]
  },
  {
   "cell_type": "code",
   "execution_count": 279,
   "id": "e2a258ee-e87b-4969-8338-8c3eada0d068",
   "metadata": {},
   "outputs": [
    {
     "data": {
      "text/html": [
       "<div>\n",
       "<style scoped>\n",
       "    .dataframe tbody tr th:only-of-type {\n",
       "        vertical-align: middle;\n",
       "    }\n",
       "\n",
       "    .dataframe tbody tr th {\n",
       "        vertical-align: top;\n",
       "    }\n",
       "\n",
       "    .dataframe thead th {\n",
       "        text-align: right;\n",
       "    }\n",
       "</style>\n",
       "<table border=\"1\" class=\"dataframe\">\n",
       "  <thead>\n",
       "    <tr style=\"text-align: right;\">\n",
       "      <th></th>\n",
       "      <th>Event_ID</th>\n",
       "      <th>irwinID</th>\n",
       "      <th>Incid_Name</th>\n",
       "      <th>Incid_Type</th>\n",
       "      <th>Map_ID</th>\n",
       "      <th>Map_Prog</th>\n",
       "      <th>Asmnt_Type</th>\n",
       "      <th>BurnBndAc</th>\n",
       "      <th>BurnBndLat</th>\n",
       "      <th>BurnBndLon</th>\n",
       "      <th>...</th>\n",
       "      <th>dNBR_offst</th>\n",
       "      <th>dNBR_stdDv</th>\n",
       "      <th>NoData_T</th>\n",
       "      <th>IncGreen_T</th>\n",
       "      <th>Low_T</th>\n",
       "      <th>Mod_T</th>\n",
       "      <th>High_T</th>\n",
       "      <th>Comment</th>\n",
       "      <th>ORIG_FID</th>\n",
       "      <th>geometry</th>\n",
       "    </tr>\n",
       "  </thead>\n",
       "  <tbody>\n",
       "    <tr>\n",
       "      <th>0</th>\n",
       "      <td>AK6260315742119850801</td>\n",
       "      <td>None</td>\n",
       "      <td>CAMELBACK</td>\n",
       "      <td>Wildfire</td>\n",
       "      <td>4737</td>\n",
       "      <td>MTBS</td>\n",
       "      <td>Extended</td>\n",
       "      <td>4780</td>\n",
       "      <td>62.603</td>\n",
       "      <td>-157.421</td>\n",
       "      <td>...</td>\n",
       "      <td>27</td>\n",
       "      <td>-9999</td>\n",
       "      <td>-970</td>\n",
       "      <td>-150</td>\n",
       "      <td>130</td>\n",
       "      <td>334</td>\n",
       "      <td>585</td>\n",
       "      <td>None</td>\n",
       "      <td>0</td>\n",
       "      <td>POINT (-157.42071 62.60301)</td>\n",
       "    </tr>\n",
       "    <tr>\n",
       "      <th>1</th>\n",
       "      <td>AK6256215664519850720</td>\n",
       "      <td>None</td>\n",
       "      <td>SUGARLOAF</td>\n",
       "      <td>Wildfire</td>\n",
       "      <td>4738</td>\n",
       "      <td>MTBS</td>\n",
       "      <td>Extended</td>\n",
       "      <td>5489</td>\n",
       "      <td>62.562</td>\n",
       "      <td>-156.645</td>\n",
       "      <td>...</td>\n",
       "      <td>3</td>\n",
       "      <td>-9999</td>\n",
       "      <td>-970</td>\n",
       "      <td>-150</td>\n",
       "      <td>70</td>\n",
       "      <td>320</td>\n",
       "      <td>600</td>\n",
       "      <td>None</td>\n",
       "      <td>1</td>\n",
       "      <td>POINT (-156.64499 62.56187)</td>\n",
       "    </tr>\n",
       "    <tr>\n",
       "      <th>2</th>\n",
       "      <td>AK6547615382919850801</td>\n",
       "      <td>None</td>\n",
       "      <td>TAL NW 44</td>\n",
       "      <td>Wildfire</td>\n",
       "      <td>4739</td>\n",
       "      <td>MTBS</td>\n",
       "      <td>Extended</td>\n",
       "      <td>1491</td>\n",
       "      <td>65.476</td>\n",
       "      <td>-153.829</td>\n",
       "      <td>...</td>\n",
       "      <td>14</td>\n",
       "      <td>-9999</td>\n",
       "      <td>-970</td>\n",
       "      <td>-150</td>\n",
       "      <td>50</td>\n",
       "      <td>275</td>\n",
       "      <td>530</td>\n",
       "      <td>None</td>\n",
       "      <td>2</td>\n",
       "      <td>POINT (-153.82867 65.47559)</td>\n",
       "    </tr>\n",
       "    <tr>\n",
       "      <th>3</th>\n",
       "      <td>AK6521015526519850803</td>\n",
       "      <td>None</td>\n",
       "      <td>GAL NE 48</td>\n",
       "      <td>Wildfire</td>\n",
       "      <td>4740</td>\n",
       "      <td>MTBS</td>\n",
       "      <td>Extended</td>\n",
       "      <td>1298</td>\n",
       "      <td>65.210</td>\n",
       "      <td>-155.265</td>\n",
       "      <td>...</td>\n",
       "      <td>14</td>\n",
       "      <td>-9999</td>\n",
       "      <td>-970</td>\n",
       "      <td>-150</td>\n",
       "      <td>100</td>\n",
       "      <td>321</td>\n",
       "      <td>580</td>\n",
       "      <td>None</td>\n",
       "      <td>3</td>\n",
       "      <td>POINT (-155.26503 65.21013)</td>\n",
       "    </tr>\n",
       "    <tr>\n",
       "      <th>4</th>\n",
       "      <td>AZ3178311066219850302</td>\n",
       "      <td>None</td>\n",
       "      <td>UNNAMED</td>\n",
       "      <td>Wildfire</td>\n",
       "      <td>4741</td>\n",
       "      <td>MTBS</td>\n",
       "      <td>Initial</td>\n",
       "      <td>1326</td>\n",
       "      <td>31.783</td>\n",
       "      <td>-110.662</td>\n",
       "      <td>...</td>\n",
       "      <td>-10</td>\n",
       "      <td>-9999</td>\n",
       "      <td>-970</td>\n",
       "      <td>-150</td>\n",
       "      <td>25</td>\n",
       "      <td>152</td>\n",
       "      <td>320</td>\n",
       "      <td>Hard to delineate fire perimeter</td>\n",
       "      <td>4</td>\n",
       "      <td>POINT (-110.66346 31.77507)</td>\n",
       "    </tr>\n",
       "  </tbody>\n",
       "</table>\n",
       "<p>5 rows × 24 columns</p>\n",
       "</div>"
      ],
      "text/plain": [
       "                Event_ID irwinID Incid_Name Incid_Type  Map_ID Map_Prog  \\\n",
       "0  AK6260315742119850801    None  CAMELBACK   Wildfire    4737     MTBS   \n",
       "1  AK6256215664519850720    None  SUGARLOAF   Wildfire    4738     MTBS   \n",
       "2  AK6547615382919850801    None  TAL NW 44   Wildfire    4739     MTBS   \n",
       "3  AK6521015526519850803    None  GAL NE 48   Wildfire    4740     MTBS   \n",
       "4  AZ3178311066219850302    None    UNNAMED   Wildfire    4741     MTBS   \n",
       "\n",
       "  Asmnt_Type  BurnBndAc BurnBndLat BurnBndLon  ... dNBR_offst dNBR_stdDv  \\\n",
       "0   Extended       4780     62.603   -157.421  ...         27      -9999   \n",
       "1   Extended       5489     62.562   -156.645  ...          3      -9999   \n",
       "2   Extended       1491     65.476   -153.829  ...         14      -9999   \n",
       "3   Extended       1298     65.210   -155.265  ...         14      -9999   \n",
       "4    Initial       1326     31.783   -110.662  ...        -10      -9999   \n",
       "\n",
       "  NoData_T IncGreen_T  Low_T  Mod_T  High_T                           Comment  \\\n",
       "0     -970       -150    130    334     585                              None   \n",
       "1     -970       -150     70    320     600                              None   \n",
       "2     -970       -150     50    275     530                              None   \n",
       "3     -970       -150    100    321     580                              None   \n",
       "4     -970       -150     25    152     320  Hard to delineate fire perimeter   \n",
       "\n",
       "   ORIG_FID                     geometry  \n",
       "0         0  POINT (-157.42071 62.60301)  \n",
       "1         1  POINT (-156.64499 62.56187)  \n",
       "2         2  POINT (-153.82867 65.47559)  \n",
       "3         3  POINT (-155.26503 65.21013)  \n",
       "4         4  POINT (-110.66346 31.77507)  \n",
       "\n",
       "[5 rows x 24 columns]"
      ]
     },
     "execution_count": 279,
     "metadata": {},
     "output_type": "execute_result"
    }
   ],
   "source": [
    "fires = gpd.read_file(\"data/mtbs_fod_pts_data/mtbs_FODpoints_DD.shp\")\n",
    "fires.head()"
   ]
  },
  {
   "cell_type": "code",
   "execution_count": 283,
   "id": "f17bafc6-5bdd-4763-a5cc-6438c8ad3fc6",
   "metadata": {},
   "outputs": [
    {
     "data": {
      "text/plain": [
       "<Axes: >"
      ]
     },
     "execution_count": 283,
     "metadata": {},
     "output_type": "execute_result"
    },
    {
     "data": {
      "image/png": "[encoded data removed]",
      "text/plain": [
       "<Figure size 1700x1700 with 1 Axes>"
      ]
     },
     "metadata": {},
     "output_type": "display_data"
    }
   ],
   "source": [
    "fires.plot(markersize=1,figsize=(17,17))"
   ]
  },
  {
   "cell_type": "markdown",
   "id": "abd8bd65-8478-4e9d-b18b-81103b945ac3",
   "metadata": {},
   "source": [
    "The goal is to join these two datasets. First make sure they both use the same crs\n"
   ]
  },
  {
   "cell_type": "code",
   "execution_count": 286,
   "id": "65bb400e-320f-4ba5-b009-6064b0037e18",
   "metadata": {},
   "outputs": [
    {
     "data": {
      "text/plain": [
       "<Geographic 2D CRS: EPSG:4269>\n",
       "Name: NAD83\n",
       "Axis Info [ellipsoidal]:\n",
       "- Lat[north]: Geodetic latitude (degree)\n",
       "- Lon[east]: Geodetic longitude (degree)\n",
       "Area of Use:\n",
       "- name: North America - onshore and offshore: Canada - Alberta; British Columbia; Manitoba; New Brunswick; Newfoundland and Labrador; Northwest Territories; Nova Scotia; Nunavut; Ontario; Prince Edward Island; Quebec; Saskatchewan; Yukon. Puerto Rico. United States (USA) - Alabama; Alaska; Arizona; Arkansas; California; Colorado; Connecticut; Delaware; Florida; Georgia; Hawaii; Idaho; Illinois; Indiana; Iowa; Kansas; Kentucky; Louisiana; Maine; Maryland; Massachusetts; Michigan; Minnesota; Mississippi; Missouri; Montana; Nebraska; Nevada; New Hampshire; New Jersey; New Mexico; New York; North Carolina; North Dakota; Ohio; Oklahoma; Oregon; Pennsylvania; Rhode Island; South Carolina; South Dakota; Tennessee; Texas; Utah; Vermont; Virginia; Washington; West Virginia; Wisconsin; Wyoming. US Virgin Islands. British Virgin Islands.\n",
       "- bounds: (167.65, 14.92, -40.73, 86.45)\n",
       "Datum: North American Datum 1983\n",
       "- Ellipsoid: GRS 1980\n",
       "- Prime Meridian: Greenwich"
      ]
     },
     "execution_count": 286,
     "metadata": {},
     "output_type": "execute_result"
    }
   ],
   "source": [
    "fires.crs"
   ]
  },
  {
   "cell_type": "code",
   "execution_count": 288,
   "id": "3bc2c1ca-23cc-4805-9edb-c73c215d7710",
   "metadata": {},
   "outputs": [
    {
     "data": {
      "text/plain": [
       "<Geographic 2D CRS: EPSG:4326>\n",
       "Name: WGS 84\n",
       "Axis Info [ellipsoidal]:\n",
       "- Lat[north]: Geodetic latitude (degree)\n",
       "- Lon[east]: Geodetic longitude (degree)\n",
       "Area of Use:\n",
       "- name: World.\n",
       "- bounds: (-180.0, -90.0, 180.0, 90.0)\n",
       "Datum: World Geodetic System 1984 ensemble\n",
       "- Ellipsoid: WGS 84\n",
       "- Prime Meridian: Greenwich"
      ]
     },
     "execution_count": 288,
     "metadata": {},
     "output_type": "execute_result"
    }
   ],
   "source": [
    "states.crs"
   ]
  },
  {
   "cell_type": "markdown",
   "id": "22671ebf-e1f9-4463-88ec-2e6b1d3339bd",
   "metadata": {},
   "source": [
    "These two have 2 different projections. We will project the fires shapefile to the states crs "
   ]
  },
  {
   "cell_type": "code",
   "execution_count": 291,
   "id": "38bbfb07-1279-478f-bb51-06942dd11e66",
   "metadata": {},
   "outputs": [
    {
     "name": "stderr",
     "output_type": "stream",
     "text": [
      "/opt/anaconda3/lib/python3.12/site-packages/pyproj/crs/crs.py:141: FutureWarning: '+init=<authority>:<code>' syntax is deprecated. '<authority>:<code>' is the preferred initialization method. When making the change, be mindful of axis order changes: https://pyproj4.github.io/pyproj/stable/gotchas.html#axis-order-changes-in-proj-6\n",
      "  in_crs_string = _prepare_from_proj_string(in_crs_string)\n"
     ]
    }
   ],
   "source": [
    "fires = fires.to_crs({'init':'epsg:4326'})"
   ]
  },
  {
   "cell_type": "markdown",
   "id": "e3ef10d9-7ed8-4256-bb6d-26b98d54ef37",
   "metadata": {},
   "source": [
    "Now we are ready to perform a spatial join, using sjoin method. "
   ]
  },
  {
   "cell_type": "code",
   "execution_count": 303,
   "id": "7b32c768-c713-4f4f-98af-254ac64eed99",
   "metadata": {},
   "outputs": [
    {
     "name": "stderr",
     "output_type": "stream",
     "text": [
      "/var/folders/2x/vymtd9_x51s4l5smfsbyp9m80000gn/T/ipykernel_13332/1343066233.py:1: UserWarning: CRS mismatch between the CRS of left geometries and the CRS of right geometries.\n",
      "Use `to_crs()` to reproject one of the input geometries to match the CRS of the other.\n",
      "\n",
      "Left CRS: +init=epsg:4326 +type=crs\n",
      "Right CRS: EPSG:4326\n",
      "\n",
      "  state_fires = gpd.sjoin(fires,states[['name','geometry']].copy(),predicate='within')\n"
     ]
    },
    {
     "data": {
      "text/html": [
       "<div>\n",
       "<style scoped>\n",
       "    .dataframe tbody tr th:only-of-type {\n",
       "        vertical-align: middle;\n",
       "    }\n",
       "\n",
       "    .dataframe tbody tr th {\n",
       "        vertical-align: top;\n",
       "    }\n",
       "\n",
       "    .dataframe thead th {\n",
       "        text-align: right;\n",
       "    }\n",
       "</style>\n",
       "<table border=\"1\" class=\"dataframe\">\n",
       "  <thead>\n",
       "    <tr style=\"text-align: right;\">\n",
       "      <th></th>\n",
       "      <th>Event_ID</th>\n",
       "      <th>irwinID</th>\n",
       "      <th>Incid_Name</th>\n",
       "      <th>Incid_Type</th>\n",
       "      <th>Map_ID</th>\n",
       "      <th>Map_Prog</th>\n",
       "      <th>Asmnt_Type</th>\n",
       "      <th>BurnBndAc</th>\n",
       "      <th>BurnBndLat</th>\n",
       "      <th>BurnBndLon</th>\n",
       "      <th>...</th>\n",
       "      <th>NoData_T</th>\n",
       "      <th>IncGreen_T</th>\n",
       "      <th>Low_T</th>\n",
       "      <th>Mod_T</th>\n",
       "      <th>High_T</th>\n",
       "      <th>Comment</th>\n",
       "      <th>ORIG_FID</th>\n",
       "      <th>geometry</th>\n",
       "      <th>index_right</th>\n",
       "      <th>name</th>\n",
       "    </tr>\n",
       "  </thead>\n",
       "  <tbody>\n",
       "    <tr>\n",
       "      <th>0</th>\n",
       "      <td>AK6260315742119850801</td>\n",
       "      <td>None</td>\n",
       "      <td>CAMELBACK</td>\n",
       "      <td>Wildfire</td>\n",
       "      <td>4737</td>\n",
       "      <td>MTBS</td>\n",
       "      <td>Extended</td>\n",
       "      <td>4780</td>\n",
       "      <td>62.603</td>\n",
       "      <td>-157.421</td>\n",
       "      <td>...</td>\n",
       "      <td>-970</td>\n",
       "      <td>-150</td>\n",
       "      <td>130</td>\n",
       "      <td>334</td>\n",
       "      <td>585</td>\n",
       "      <td>None</td>\n",
       "      <td>0</td>\n",
       "      <td>POINT (-157.42071 62.60301)</td>\n",
       "      <td>50</td>\n",
       "      <td>Alaska</td>\n",
       "    </tr>\n",
       "    <tr>\n",
       "      <th>1</th>\n",
       "      <td>AK6256215664519850720</td>\n",
       "      <td>None</td>\n",
       "      <td>SUGARLOAF</td>\n",
       "      <td>Wildfire</td>\n",
       "      <td>4738</td>\n",
       "      <td>MTBS</td>\n",
       "      <td>Extended</td>\n",
       "      <td>5489</td>\n",
       "      <td>62.562</td>\n",
       "      <td>-156.645</td>\n",
       "      <td>...</td>\n",
       "      <td>-970</td>\n",
       "      <td>-150</td>\n",
       "      <td>70</td>\n",
       "      <td>320</td>\n",
       "      <td>600</td>\n",
       "      <td>None</td>\n",
       "      <td>1</td>\n",
       "      <td>POINT (-156.64499 62.56187)</td>\n",
       "      <td>50</td>\n",
       "      <td>Alaska</td>\n",
       "    </tr>\n",
       "    <tr>\n",
       "      <th>2</th>\n",
       "      <td>AK6547615382919850801</td>\n",
       "      <td>None</td>\n",
       "      <td>TAL NW 44</td>\n",
       "      <td>Wildfire</td>\n",
       "      <td>4739</td>\n",
       "      <td>MTBS</td>\n",
       "      <td>Extended</td>\n",
       "      <td>1491</td>\n",
       "      <td>65.476</td>\n",
       "      <td>-153.829</td>\n",
       "      <td>...</td>\n",
       "      <td>-970</td>\n",
       "      <td>-150</td>\n",
       "      <td>50</td>\n",
       "      <td>275</td>\n",
       "      <td>530</td>\n",
       "      <td>None</td>\n",
       "      <td>2</td>\n",
       "      <td>POINT (-153.82867 65.47559)</td>\n",
       "      <td>50</td>\n",
       "      <td>Alaska</td>\n",
       "    </tr>\n",
       "    <tr>\n",
       "      <th>3</th>\n",
       "      <td>AK6521015526519850803</td>\n",
       "      <td>None</td>\n",
       "      <td>GAL NE 48</td>\n",
       "      <td>Wildfire</td>\n",
       "      <td>4740</td>\n",
       "      <td>MTBS</td>\n",
       "      <td>Extended</td>\n",
       "      <td>1298</td>\n",
       "      <td>65.210</td>\n",
       "      <td>-155.265</td>\n",
       "      <td>...</td>\n",
       "      <td>-970</td>\n",
       "      <td>-150</td>\n",
       "      <td>100</td>\n",
       "      <td>321</td>\n",
       "      <td>580</td>\n",
       "      <td>None</td>\n",
       "      <td>3</td>\n",
       "      <td>POINT (-155.26503 65.21013)</td>\n",
       "      <td>50</td>\n",
       "      <td>Alaska</td>\n",
       "    </tr>\n",
       "    <tr>\n",
       "      <th>4</th>\n",
       "      <td>AZ3178311066219850302</td>\n",
       "      <td>None</td>\n",
       "      <td>UNNAMED</td>\n",
       "      <td>Wildfire</td>\n",
       "      <td>4741</td>\n",
       "      <td>MTBS</td>\n",
       "      <td>Initial</td>\n",
       "      <td>1326</td>\n",
       "      <td>31.783</td>\n",
       "      <td>-110.662</td>\n",
       "      <td>...</td>\n",
       "      <td>-970</td>\n",
       "      <td>-150</td>\n",
       "      <td>25</td>\n",
       "      <td>152</td>\n",
       "      <td>320</td>\n",
       "      <td>Hard to delineate fire perimeter</td>\n",
       "      <td>4</td>\n",
       "      <td>POINT (-110.66346 31.77507)</td>\n",
       "      <td>6</td>\n",
       "      <td>Arizona</td>\n",
       "    </tr>\n",
       "  </tbody>\n",
       "</table>\n",
       "<p>5 rows × 26 columns</p>\n",
       "</div>"
      ],
      "text/plain": [
       "                Event_ID irwinID Incid_Name Incid_Type  Map_ID Map_Prog  \\\n",
       "0  AK6260315742119850801    None  CAMELBACK   Wildfire    4737     MTBS   \n",
       "1  AK6256215664519850720    None  SUGARLOAF   Wildfire    4738     MTBS   \n",
       "2  AK6547615382919850801    None  TAL NW 44   Wildfire    4739     MTBS   \n",
       "3  AK6521015526519850803    None  GAL NE 48   Wildfire    4740     MTBS   \n",
       "4  AZ3178311066219850302    None    UNNAMED   Wildfire    4741     MTBS   \n",
       "\n",
       "  Asmnt_Type  BurnBndAc BurnBndLat BurnBndLon  ... NoData_T IncGreen_T Low_T  \\\n",
       "0   Extended       4780     62.603   -157.421  ...     -970       -150   130   \n",
       "1   Extended       5489     62.562   -156.645  ...     -970       -150    70   \n",
       "2   Extended       1491     65.476   -153.829  ...     -970       -150    50   \n",
       "3   Extended       1298     65.210   -155.265  ...     -970       -150   100   \n",
       "4    Initial       1326     31.783   -110.662  ...     -970       -150    25   \n",
       "\n",
       "  Mod_T  High_T                           Comment  ORIG_FID  \\\n",
       "0   334     585                              None         0   \n",
       "1   320     600                              None         1   \n",
       "2   275     530                              None         2   \n",
       "3   321     580                              None         3   \n",
       "4   152     320  Hard to delineate fire perimeter         4   \n",
       "\n",
       "                      geometry  index_right     name  \n",
       "0  POINT (-157.42071 62.60301)           50   Alaska  \n",
       "1  POINT (-156.64499 62.56187)           50   Alaska  \n",
       "2  POINT (-153.82867 65.47559)           50   Alaska  \n",
       "3  POINT (-155.26503 65.21013)           50   Alaska  \n",
       "4  POINT (-110.66346 31.77507)            6  Arizona  \n",
       "\n",
       "[5 rows x 26 columns]"
      ]
     },
     "execution_count": 303,
     "metadata": {},
     "output_type": "execute_result"
    }
   ],
   "source": [
    "state_fires = gpd.sjoin(fires,states[['name','geometry']].copy(),predicate='within')\n",
    "state_fires.head()"
   ]
  },
  {
   "cell_type": "code",
   "execution_count": 307,
   "id": "c0134ac3-545a-443c-ac8a-ae015f6283af",
   "metadata": {},
   "outputs": [
    {
     "data": {
      "text/plain": [
       "name\n",
       "Florida           5596\n",
       "California        1999\n",
       "Idaho             1627\n",
       "Texas             1625\n",
       "Alaska            1479\n",
       "Arizona           1305\n",
       "Oregon            1091\n",
       "New Mexico        1068\n",
       "Nevada            1043\n",
       "Mississippi       1023\n",
       "Montana            908\n",
       "Alabama            907\n",
       "South Carolina     856\n",
       "Louisiana          828\n",
       "Oklahoma           815\n",
       "Arkansas           793\n",
       "Utah               721\n",
       "Georgia            653\n",
       "Washington         623\n",
       "Minnesota          521\n",
       "Wyoming            457\n",
       "Colorado           416\n",
       "Kentucky           386\n",
       "Kansas             348\n",
       "Missouri           339\n",
       "North Carolina     323\n",
       "West Virginia      313\n",
       "South Dakota       252\n",
       "Tennessee          219\n",
       "Virginia           167\n",
       "Nebraska           139\n",
       "New Jersey         115\n",
       "North Dakota       115\n",
       "Michigan            83\n",
       "Indiana             65\n",
       "Wisconsin           56\n",
       "Illinois            53\n",
       "Maryland            41\n",
       "Hawaii              24\n",
       "Pennsylvania        18\n",
       "Iowa                13\n",
       "New York            11\n",
       "Ohio                 8\n",
       "Maine                4\n",
       "Delaware             3\n",
       "Massachusetts        2\n",
       "dtype: int64"
      ]
     },
     "execution_count": 307,
     "metadata": {},
     "output_type": "execute_result"
    }
   ],
   "source": [
    "counts_per_state = state_fires.groupby('name').size()\n",
    "counts_per_state.sort_values(axis=0,ascending=False)"
   ]
  },
  {
   "cell_type": "markdown",
   "id": "3ce5070e-e5bb-4307-bb0d-91541d3b51a9",
   "metadata": {},
   "source": [
    "These values can be fed to the original shapefile as a new field, showing total wildfire count per state"
   ]
  },
  {
   "cell_type": "code",
   "execution_count": 310,
   "id": "fff4a5a5-098a-453a-8c7a-a746052c2021",
   "metadata": {},
   "outputs": [
    {
     "data": {
      "text/html": [
       "<div>\n",
       "<style scoped>\n",
       "    .dataframe tbody tr th:only-of-type {\n",
       "        vertical-align: middle;\n",
       "    }\n",
       "\n",
       "    .dataframe tbody tr th {\n",
       "        vertical-align: top;\n",
       "    }\n",
       "\n",
       "    .dataframe thead th {\n",
       "        text-align: right;\n",
       "    }\n",
       "</style>\n",
       "<table border=\"1\" class=\"dataframe\">\n",
       "  <thead>\n",
       "    <tr style=\"text-align: right;\">\n",
       "      <th></th>\n",
       "      <th>featurecla</th>\n",
       "      <th>scalerank</th>\n",
       "      <th>adm1_code</th>\n",
       "      <th>diss_me</th>\n",
       "      <th>iso_3166_2</th>\n",
       "      <th>wikipedia</th>\n",
       "      <th>iso_a2</th>\n",
       "      <th>adm0_sr</th>\n",
       "      <th>name</th>\n",
       "      <th>name_alt</th>\n",
       "      <th>...</th>\n",
       "      <th>FCLASS_PL</th>\n",
       "      <th>FCLASS_GR</th>\n",
       "      <th>FCLASS_IT</th>\n",
       "      <th>FCLASS_NL</th>\n",
       "      <th>FCLASS_SE</th>\n",
       "      <th>FCLASS_BD</th>\n",
       "      <th>FCLASS_UA</th>\n",
       "      <th>FCLASS_TLC</th>\n",
       "      <th>geometry</th>\n",
       "      <th>number_of_fires</th>\n",
       "    </tr>\n",
       "  </thead>\n",
       "  <tbody>\n",
       "    <tr>\n",
       "      <th>0</th>\n",
       "      <td>Admin-1 scale rank</td>\n",
       "      <td>2</td>\n",
       "      <td>USA-3514</td>\n",
       "      <td>3514</td>\n",
       "      <td>US-MN</td>\n",
       "      <td>http://en.wikipedia.org/wiki/Minnesota</td>\n",
       "      <td>US</td>\n",
       "      <td>1</td>\n",
       "      <td>Minnesota</td>\n",
       "      <td>MN|Minn.</td>\n",
       "      <td>...</td>\n",
       "      <td>None</td>\n",
       "      <td>None</td>\n",
       "      <td>None</td>\n",
       "      <td>None</td>\n",
       "      <td>None</td>\n",
       "      <td>None</td>\n",
       "      <td>None</td>\n",
       "      <td>None</td>\n",
       "      <td>POLYGON ((-89.95766 47.28691, -90.13175 47.292...</td>\n",
       "      <td>521</td>\n",
       "    </tr>\n",
       "    <tr>\n",
       "      <th>1</th>\n",
       "      <td>Admin-1 scale rank</td>\n",
       "      <td>2</td>\n",
       "      <td>USA-3515</td>\n",
       "      <td>3515</td>\n",
       "      <td>US-MT</td>\n",
       "      <td>http://en.wikipedia.org/wiki/Montana</td>\n",
       "      <td>US</td>\n",
       "      <td>1</td>\n",
       "      <td>Montana</td>\n",
       "      <td>MT|Mont.</td>\n",
       "      <td>...</td>\n",
       "      <td>None</td>\n",
       "      <td>None</td>\n",
       "      <td>None</td>\n",
       "      <td>None</td>\n",
       "      <td>None</td>\n",
       "      <td>None</td>\n",
       "      <td>None</td>\n",
       "      <td>None</td>\n",
       "      <td>POLYGON ((-116.04823 49.00037, -113.0595 49.00...</td>\n",
       "      <td>908</td>\n",
       "    </tr>\n",
       "    <tr>\n",
       "      <th>2</th>\n",
       "      <td>Admin-1 scale rank</td>\n",
       "      <td>2</td>\n",
       "      <td>USA-3516</td>\n",
       "      <td>3516</td>\n",
       "      <td>US-ND</td>\n",
       "      <td>http://en.wikipedia.org/wiki/North_Dakota</td>\n",
       "      <td>US</td>\n",
       "      <td>1</td>\n",
       "      <td>North Dakota</td>\n",
       "      <td>ND|N.D.</td>\n",
       "      <td>...</td>\n",
       "      <td>None</td>\n",
       "      <td>None</td>\n",
       "      <td>None</td>\n",
       "      <td>None</td>\n",
       "      <td>None</td>\n",
       "      <td>None</td>\n",
       "      <td>None</td>\n",
       "      <td>None</td>\n",
       "      <td>POLYGON ((-97.22894 49.00089, -97.21414 48.902...</td>\n",
       "      <td>115</td>\n",
       "    </tr>\n",
       "    <tr>\n",
       "      <th>3</th>\n",
       "      <td>Admin-1 scale rank</td>\n",
       "      <td>2</td>\n",
       "      <td>USA-3517</td>\n",
       "      <td>3517</td>\n",
       "      <td>US-HI</td>\n",
       "      <td>http://en.wikipedia.org/wiki/Hawaii</td>\n",
       "      <td>US</td>\n",
       "      <td>8</td>\n",
       "      <td>Hawaii</td>\n",
       "      <td>HI|Hawaii</td>\n",
       "      <td>...</td>\n",
       "      <td>None</td>\n",
       "      <td>None</td>\n",
       "      <td>None</td>\n",
       "      <td>None</td>\n",
       "      <td>None</td>\n",
       "      <td>None</td>\n",
       "      <td>None</td>\n",
       "      <td>None</td>\n",
       "      <td>MULTIPOLYGON (((-155.93665 19.05939, -155.9080...</td>\n",
       "      <td>24</td>\n",
       "    </tr>\n",
       "    <tr>\n",
       "      <th>4</th>\n",
       "      <td>Admin-1 scale rank</td>\n",
       "      <td>2</td>\n",
       "      <td>USA-3518</td>\n",
       "      <td>3518</td>\n",
       "      <td>US-ID</td>\n",
       "      <td>http://en.wikipedia.org/wiki/Idaho</td>\n",
       "      <td>US</td>\n",
       "      <td>1</td>\n",
       "      <td>Idaho</td>\n",
       "      <td>ID|Idaho</td>\n",
       "      <td>...</td>\n",
       "      <td>None</td>\n",
       "      <td>None</td>\n",
       "      <td>None</td>\n",
       "      <td>None</td>\n",
       "      <td>None</td>\n",
       "      <td>None</td>\n",
       "      <td>None</td>\n",
       "      <td>None</td>\n",
       "      <td>POLYGON ((-116.04823 49.00037, -115.9678 47.95...</td>\n",
       "      <td>1627</td>\n",
       "    </tr>\n",
       "  </tbody>\n",
       "</table>\n",
       "<p>5 rows × 123 columns</p>\n",
       "</div>"
      ],
      "text/plain": [
       "           featurecla  scalerank adm1_code  diss_me iso_3166_2  \\\n",
       "0  Admin-1 scale rank          2  USA-3514     3514      US-MN   \n",
       "1  Admin-1 scale rank          2  USA-3515     3515      US-MT   \n",
       "2  Admin-1 scale rank          2  USA-3516     3516      US-ND   \n",
       "3  Admin-1 scale rank          2  USA-3517     3517      US-HI   \n",
       "4  Admin-1 scale rank          2  USA-3518     3518      US-ID   \n",
       "\n",
       "                                   wikipedia iso_a2  adm0_sr          name  \\\n",
       "0     http://en.wikipedia.org/wiki/Minnesota     US        1     Minnesota   \n",
       "1       http://en.wikipedia.org/wiki/Montana     US        1       Montana   \n",
       "2  http://en.wikipedia.org/wiki/North_Dakota     US        1  North Dakota   \n",
       "3        http://en.wikipedia.org/wiki/Hawaii     US        8        Hawaii   \n",
       "4         http://en.wikipedia.org/wiki/Idaho     US        1         Idaho   \n",
       "\n",
       "    name_alt  ... FCLASS_PL FCLASS_GR FCLASS_IT FCLASS_NL FCLASS_SE FCLASS_BD  \\\n",
       "0   MN|Minn.  ...      None      None      None      None      None      None   \n",
       "1   MT|Mont.  ...      None      None      None      None      None      None   \n",
       "2    ND|N.D.  ...      None      None      None      None      None      None   \n",
       "3  HI|Hawaii  ...      None      None      None      None      None      None   \n",
       "4   ID|Idaho  ...      None      None      None      None      None      None   \n",
       "\n",
       "  FCLASS_UA FCLASS_TLC                                           geometry  \\\n",
       "0      None       None  POLYGON ((-89.95766 47.28691, -90.13175 47.292...   \n",
       "1      None       None  POLYGON ((-116.04823 49.00037, -113.0595 49.00...   \n",
       "2      None       None  POLYGON ((-97.22894 49.00089, -97.21414 48.902...   \n",
       "3      None       None  MULTIPOLYGON (((-155.93665 19.05939, -155.9080...   \n",
       "4      None       None  POLYGON ((-116.04823 49.00037, -115.9678 47.95...   \n",
       "\n",
       "   number_of_fires  \n",
       "0              521  \n",
       "1              908  \n",
       "2              115  \n",
       "3               24  \n",
       "4             1627  \n",
       "\n",
       "[5 rows x 123 columns]"
      ]
     },
     "execution_count": 310,
     "metadata": {},
     "output_type": "execute_result"
    }
   ],
   "source": [
    "states = states.merge(counts_per_state.reset_index(name='number_of_fires'))\n",
    "states.head()"
   ]
  },
  {
   "cell_type": "code",
   "execution_count": 314,
   "id": "ea5aafdf-e4de-46f5-9ef1-ce9c3a526671",
   "metadata": {},
   "outputs": [
    {
     "data": {
      "image/png": "[encoded data removed]",
      "text/plain": [
       "<Figure size 1500x600 with 2 Axes>"
      ]
     },
     "metadata": {},
     "output_type": "display_data"
    }
   ],
   "source": [
    "ax = states.plot(column='number_of_fires',figsize=(15,6),cmap='OrRd',legend=True)"
   ]
  },
  {
   "cell_type": "code",
   "execution_count": null,
   "id": "93a21d97-3b90-4924-80d8-75bc298c1b32",
   "metadata": {},
   "outputs": [],
   "source": []
  },
  {
   "cell_type": "code",
   "execution_count": 319,
   "id": "64fd2931-1cac-4fa9-b7e9-589ac0d82db5",
   "metadata": {},
   "outputs": [
    {
     "data": {
      "image/png": "[encoded data removed]",
      "text/plain": [
       "<Figure size 1500x600 with 2 Axes>"
      ]
     },
     "metadata": {},
     "output_type": "display_data"
    }
   ],
   "source": [
    "ax = states.plot(column='number_of_fires',figsize=(15,6),cmap='Accent',legend=True)"
   ]
  },
  {
   "cell_type": "code",
   "execution_count": null,
   "id": "9aa89c28-d81e-46c8-87e8-7d8fe3dbf325",
   "metadata": {},
   "outputs": [],
   "source": []
  },
  {
   "cell_type": "markdown",
   "id": "26f32f90-381d-45f7-ac56-59f16031021c",
   "metadata": {},
   "source": [
    "## Why data inspection matters \n",
    " When preparing data, its good to know the data you are dealing with. Fore example, listing statistics about your dataset that shows you how many elements are there \n",
    ",and if there are any missing values. "
   ]
  },
  {
   "cell_type": "code",
   "execution_count": 324,
   "id": "fc345a8e-53de-49e6-81e9-ea54904789e4",
   "metadata": {},
   "outputs": [
    {
     "data": {
      "text/plain": [
       "29583"
      ]
     },
     "execution_count": 324,
     "metadata": {},
     "output_type": "execute_result"
    }
   ],
   "source": [
    "len(fires.index)"
   ]
  },
  {
   "cell_type": "code",
   "execution_count": 326,
   "id": "4080c877-9c8d-4832-8d1d-3ec1c6ab2273",
   "metadata": {},
   "outputs": [
    {
     "data": {
      "text/plain": [
       "29451"
      ]
     },
     "execution_count": 326,
     "metadata": {},
     "output_type": "execute_result"
    }
   ],
   "source": [
    "counts_per_state.sum()"
   ]
  },
  {
   "cell_type": "code",
   "execution_count": 328,
   "id": "1858a8f7-6594-4f38-be2c-91c5d88175b9",
   "metadata": {},
   "outputs": [
    {
     "data": {
      "text/plain": [
       "False"
      ]
     },
     "execution_count": 328,
     "metadata": {},
     "output_type": "execute_result"
    }
   ],
   "source": [
    "fires.empty"
   ]
  },
  {
   "cell_type": "markdown",
   "id": "fb7ed8bf-8f95-44db-a80f-2fe84793f0f3",
   "metadata": {},
   "source": [
    "## SUMMARY \n",
    "This chapter covered 3 python libraries for working with vector data - OGR, Shapely and GeoPandas."
   ]
  },
  {
   "cell_type": "code",
   "execution_count": null,
   "id": "80f87c4f-ff03-4770-bbba-e50c08052f4e",
   "metadata": {},
   "outputs": [],
   "source": []
  }
 ],
 "metadata": {
  "kernelspec": {
   "display_name": "Python 3 (ipykernel)",
   "language": "python",
   "name": "python3"
  },
  "language_info": {
   "codemirror_mode": {
    "name": "ipython",
    "version": 3
   },
   "file_extension": ".py",
   "mimetype": "text/x-python",
   "name": "python",
   "nbconvert_exporter": "python",
   "pygments_lexer": "ipython3",
   "version": "3.12.2"
  }
 },
 "nbformat": 4,
 "nbformat_minor": 5
}
